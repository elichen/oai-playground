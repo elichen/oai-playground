{
  "nbformat": 4,
  "nbformat_minor": 0,
  "metadata": {
    "colab": {
      "provenance": [],
      "authorship_tag": "ABX9TyPC7XoftU2bAHvgF7v6cN8a",
      "include_colab_link": true
    },
    "kernelspec": {
      "name": "python3",
      "display_name": "Python 3"
    },
    "language_info": {
      "name": "python"
    }
  },
  "cells": [
    {
      "cell_type": "markdown",
      "metadata": {
        "id": "view-in-github",
        "colab_type": "text"
      },
      "source": [
        "<a href=\"https://colab.research.google.com/github/elichen/oai-playground/blob/main/Assistants_API_Overview_(Python_SDK).ipynb\" target=\"_parent\"><img src=\"https://colab.research.google.com/assets/colab-badge.svg\" alt=\"Open In Colab\"/></a>"
      ]
    },
    {
      "cell_type": "code",
      "source": [
        "%pip install --upgrade openai --quiet"
      ],
      "metadata": {
        "id": "g1y0MuUF9TSg"
      },
      "execution_count": 32,
      "outputs": []
    },
    {
      "cell_type": "code",
      "execution_count": 5,
      "metadata": {
        "id": "RJHBZXem9D43"
      },
      "outputs": [],
      "source": [
        "from google.colab import userdata\n",
        "from openai import OpenAI\n",
        "client = OpenAI(api_key=userdata.get('openai-key'))"
      ]
    },
    {
      "cell_type": "code",
      "source": [
        "import json\n",
        "\n",
        "def show_json(obj):\n",
        "    display(json.loads(obj.model_dump_json()))"
      ],
      "metadata": {
        "id": "1jq7tm0iT6ER"
      },
      "execution_count": 6,
      "outputs": []
    },
    {
      "cell_type": "code",
      "source": [
        "assistant = client.beta.assistants.create(\n",
        "    name=\"Math Tutor\",\n",
        "    instructions=\"You are a personal math tutor. Answer questions briefly, in a sentence or less.\",\n",
        "    model=\"gpt-4-1106-preview\",\n",
        ")\n",
        "show_json(assistant)"
      ],
      "metadata": {
        "colab": {
          "base_uri": "https://localhost:8080/",
          "height": 249
        },
        "id": "YSWtaTHxT6nC",
        "outputId": "5ab249aa-2350-4f63-c711-c4e0ac93df98"
      },
      "execution_count": 7,
      "outputs": [
        {
          "output_type": "display_data",
          "data": {
            "text/plain": [
              "{'id': 'asst_hpiJAkZwYLdvPDSTsmjLwdVl',\n",
              " 'created_at': 1720039123,\n",
              " 'description': None,\n",
              " 'instructions': 'You are a personal math tutor. Answer questions briefly, in a sentence or less.',\n",
              " 'metadata': {},\n",
              " 'model': 'gpt-4-1106-preview',\n",
              " 'name': 'Math Tutor',\n",
              " 'object': 'assistant',\n",
              " 'tools': [],\n",
              " 'response_format': 'auto',\n",
              " 'temperature': 1.0,\n",
              " 'tool_resources': {'code_interpreter': None, 'file_search': None},\n",
              " 'top_p': 1.0}"
            ]
          },
          "metadata": {}
        }
      ]
    },
    {
      "cell_type": "code",
      "source": [
        "thread = client.beta.threads.create()\n",
        "show_json(thread)"
      ],
      "metadata": {
        "colab": {
          "base_uri": "https://localhost:8080/",
          "height": 106
        },
        "id": "vROuu6JbUEfn",
        "outputId": "0feb52f2-65a6-4186-ede0-b6509ec6be16"
      },
      "execution_count": 8,
      "outputs": [
        {
          "output_type": "display_data",
          "data": {
            "text/plain": [
              "{'id': 'thread_eWhMc9BOUox3nDJYVrkvHEiW',\n",
              " 'created_at': 1720039151,\n",
              " 'metadata': {},\n",
              " 'object': 'thread',\n",
              " 'tool_resources': {'code_interpreter': None, 'file_search': None}}"
            ]
          },
          "metadata": {}
        }
      ]
    },
    {
      "cell_type": "code",
      "source": [
        "message = client.beta.threads.messages.create(\n",
        "    thread_id=thread.id,\n",
        "    role=\"user\",\n",
        "    content=\"I need to solve the equation `3x + 11 = 14`. Can you help me?\",\n",
        ")\n",
        "show_json(message)"
      ],
      "metadata": {
        "colab": {
          "base_uri": "https://localhost:8080/",
          "height": 303
        },
        "id": "l-3LGfi3Upck",
        "outputId": "6fea9483-eb9e-4944-fa70-c69e0271c894"
      },
      "execution_count": 9,
      "outputs": [
        {
          "output_type": "display_data",
          "data": {
            "text/plain": [
              "{'id': 'msg_GXEKRTyrONtYYNxBtU9jjz3a',\n",
              " 'assistant_id': None,\n",
              " 'attachments': [],\n",
              " 'completed_at': None,\n",
              " 'content': [{'text': {'annotations': [],\n",
              "    'value': 'I need to solve the equation `3x + 11 = 14`. Can you help me?'},\n",
              "   'type': 'text'}],\n",
              " 'created_at': 1720039160,\n",
              " 'incomplete_at': None,\n",
              " 'incomplete_details': None,\n",
              " 'metadata': {},\n",
              " 'object': 'thread.message',\n",
              " 'role': 'user',\n",
              " 'run_id': None,\n",
              " 'status': None,\n",
              " 'thread_id': 'thread_eWhMc9BOUox3nDJYVrkvHEiW'}"
            ]
          },
          "metadata": {}
        }
      ]
    },
    {
      "cell_type": "code",
      "source": [
        "run = client.beta.threads.runs.create(\n",
        "    thread_id=thread.id,\n",
        "    assistant_id=assistant.id,\n",
        ")\n",
        "show_json(run)"
      ],
      "metadata": {
        "colab": {
          "base_uri": "https://localhost:8080/",
          "height": 517
        },
        "id": "LFfmYtInUrei",
        "outputId": "d09e5428-b867-416d-e653-22bd8d18b9da"
      },
      "execution_count": 10,
      "outputs": [
        {
          "output_type": "display_data",
          "data": {
            "text/plain": [
              "{'id': 'run_LFFs2WYqOxJsQvDwOnHdUT1r',\n",
              " 'assistant_id': 'asst_hpiJAkZwYLdvPDSTsmjLwdVl',\n",
              " 'cancelled_at': None,\n",
              " 'completed_at': None,\n",
              " 'created_at': 1720039197,\n",
              " 'expires_at': 1720039797,\n",
              " 'failed_at': None,\n",
              " 'incomplete_details': None,\n",
              " 'instructions': 'You are a personal math tutor. Answer questions briefly, in a sentence or less.',\n",
              " 'last_error': None,\n",
              " 'max_completion_tokens': None,\n",
              " 'max_prompt_tokens': None,\n",
              " 'metadata': {},\n",
              " 'model': 'gpt-4-1106-preview',\n",
              " 'object': 'thread.run',\n",
              " 'parallel_tool_calls': True,\n",
              " 'required_action': None,\n",
              " 'response_format': 'auto',\n",
              " 'started_at': None,\n",
              " 'status': 'queued',\n",
              " 'thread_id': 'thread_eWhMc9BOUox3nDJYVrkvHEiW',\n",
              " 'tool_choice': 'auto',\n",
              " 'tools': [],\n",
              " 'truncation_strategy': {'type': 'auto', 'last_messages': None},\n",
              " 'usage': None,\n",
              " 'temperature': 1.0,\n",
              " 'top_p': 1.0,\n",
              " 'tool_resources': {}}"
            ]
          },
          "metadata": {}
        }
      ]
    },
    {
      "cell_type": "code",
      "source": [
        "import time\n",
        "\n",
        "def wait_on_run(run, thread):\n",
        "    while run.status == \"queued\" or run.status == \"in_progress\":\n",
        "        run = client.beta.threads.runs.retrieve(\n",
        "            thread_id=thread.id,\n",
        "            run_id=run.id,\n",
        "        )\n",
        "        time.sleep(0.5)\n",
        "    return run"
      ],
      "metadata": {
        "id": "XCCBnHSBU_oI"
      },
      "execution_count": 11,
      "outputs": []
    },
    {
      "cell_type": "code",
      "source": [
        "run = wait_on_run(run, thread)\n",
        "show_json(run)"
      ],
      "metadata": {
        "colab": {
          "base_uri": "https://localhost:8080/",
          "height": 517
        },
        "id": "9itVCa8fVBXQ",
        "outputId": "5267b198-1f42-42aa-f769-34864dc28085"
      },
      "execution_count": 12,
      "outputs": [
        {
          "output_type": "display_data",
          "data": {
            "text/plain": [
              "{'id': 'run_LFFs2WYqOxJsQvDwOnHdUT1r',\n",
              " 'assistant_id': 'asst_hpiJAkZwYLdvPDSTsmjLwdVl',\n",
              " 'cancelled_at': None,\n",
              " 'completed_at': 1720039199,\n",
              " 'created_at': 1720039197,\n",
              " 'expires_at': None,\n",
              " 'failed_at': None,\n",
              " 'incomplete_details': None,\n",
              " 'instructions': 'You are a personal math tutor. Answer questions briefly, in a sentence or less.',\n",
              " 'last_error': None,\n",
              " 'max_completion_tokens': None,\n",
              " 'max_prompt_tokens': None,\n",
              " 'metadata': {},\n",
              " 'model': 'gpt-4-1106-preview',\n",
              " 'object': 'thread.run',\n",
              " 'parallel_tool_calls': True,\n",
              " 'required_action': None,\n",
              " 'response_format': 'auto',\n",
              " 'started_at': 1720039197,\n",
              " 'status': 'completed',\n",
              " 'thread_id': 'thread_eWhMc9BOUox3nDJYVrkvHEiW',\n",
              " 'tool_choice': 'auto',\n",
              " 'tools': [],\n",
              " 'truncation_strategy': {'type': 'auto', 'last_messages': None},\n",
              " 'usage': {'completion_tokens': 32, 'prompt_tokens': 57, 'total_tokens': 89},\n",
              " 'temperature': 1.0,\n",
              " 'top_p': 1.0,\n",
              " 'tool_resources': {}}"
            ]
          },
          "metadata": {}
        }
      ]
    },
    {
      "cell_type": "code",
      "source": [
        "messages = client.beta.threads.messages.list(thread_id=thread.id)\n",
        "show_json(messages)"
      ],
      "metadata": {
        "colab": {
          "base_uri": "https://localhost:8080/",
          "height": 660
        },
        "id": "Ov3Npz_AVFSV",
        "outputId": "76b80985-c706-4820-c230-030ddcbf607c"
      },
      "execution_count": 13,
      "outputs": [
        {
          "output_type": "display_data",
          "data": {
            "text/plain": [
              "{'data': [{'id': 'msg_feFkbSuVnEk5bNzi4ixi2uip',\n",
              "   'assistant_id': 'asst_hpiJAkZwYLdvPDSTsmjLwdVl',\n",
              "   'attachments': [],\n",
              "   'completed_at': None,\n",
              "   'content': [{'text': {'annotations': [],\n",
              "      'value': 'Sure, subtract 11 from both sides to get `3x = 3`, then divide by 3 to find `x = 1`.'},\n",
              "     'type': 'text'}],\n",
              "   'created_at': 1720039198,\n",
              "   'incomplete_at': None,\n",
              "   'incomplete_details': None,\n",
              "   'metadata': {},\n",
              "   'object': 'thread.message',\n",
              "   'role': 'assistant',\n",
              "   'run_id': 'run_LFFs2WYqOxJsQvDwOnHdUT1r',\n",
              "   'status': None,\n",
              "   'thread_id': 'thread_eWhMc9BOUox3nDJYVrkvHEiW'},\n",
              "  {'id': 'msg_GXEKRTyrONtYYNxBtU9jjz3a',\n",
              "   'assistant_id': None,\n",
              "   'attachments': [],\n",
              "   'completed_at': None,\n",
              "   'content': [{'text': {'annotations': [],\n",
              "      'value': 'I need to solve the equation `3x + 11 = 14`. Can you help me?'},\n",
              "     'type': 'text'}],\n",
              "   'created_at': 1720039160,\n",
              "   'incomplete_at': None,\n",
              "   'incomplete_details': None,\n",
              "   'metadata': {},\n",
              "   'object': 'thread.message',\n",
              "   'role': 'user',\n",
              "   'run_id': None,\n",
              "   'status': None,\n",
              "   'thread_id': 'thread_eWhMc9BOUox3nDJYVrkvHEiW'}],\n",
              " 'object': 'list',\n",
              " 'first_id': 'msg_feFkbSuVnEk5bNzi4ixi2uip',\n",
              " 'last_id': 'msg_GXEKRTyrONtYYNxBtU9jjz3a',\n",
              " 'has_more': False}"
            ]
          },
          "metadata": {}
        }
      ]
    },
    {
      "cell_type": "code",
      "source": [
        "# Create a message to append to our thread\n",
        "message = client.beta.threads.messages.create(\n",
        "    thread_id=thread.id, role=\"user\", content=\"Could you explain this to me?\"\n",
        ")\n",
        "\n",
        "# Execute our run\n",
        "run = client.beta.threads.runs.create(\n",
        "    thread_id=thread.id,\n",
        "    assistant_id=assistant.id,\n",
        ")\n",
        "\n",
        "# Wait for completion\n",
        "wait_on_run(run, thread)\n",
        "\n",
        "# Retrieve all the messages added after our last user message\n",
        "messages = client.beta.threads.messages.list(\n",
        "    thread_id=thread.id, order=\"asc\", after=message.id\n",
        ")\n",
        "show_json(messages)"
      ],
      "metadata": {
        "colab": {
          "base_uri": "https://localhost:8080/",
          "height": 392
        },
        "id": "uOex_95GVNn_",
        "outputId": "fcb9fdbb-9b9f-4a49-e046-4be49bf76d66"
      },
      "execution_count": 14,
      "outputs": [
        {
          "output_type": "display_data",
          "data": {
            "text/plain": [
              "{'data': [{'id': 'msg_P9dWHpBYI80HXxhmE6bmMKnX',\n",
              "   'assistant_id': 'asst_hpiJAkZwYLdvPDSTsmjLwdVl',\n",
              "   'attachments': [],\n",
              "   'completed_at': None,\n",
              "   'content': [{'text': {'annotations': [],\n",
              "      'value': 'The goal is to isolate `x`. Subtract 11 from both sides of the equation (`3x + 11 - 11 = 14 - 11`) to eliminate the number added to `3x`, resulting in `3x = 3`. Then divide both sides by 3 (`3x / 3 = 3 / 3`) to isolate `x`, which gives you `x = 1`.'},\n",
              "     'type': 'text'}],\n",
              "   'created_at': 1720039302,\n",
              "   'incomplete_at': None,\n",
              "   'incomplete_details': None,\n",
              "   'metadata': {},\n",
              "   'object': 'thread.message',\n",
              "   'role': 'assistant',\n",
              "   'run_id': 'run_hfpAvFXMLVBQOlO75Rb96YrV',\n",
              "   'status': None,\n",
              "   'thread_id': 'thread_eWhMc9BOUox3nDJYVrkvHEiW'}],\n",
              " 'object': 'list',\n",
              " 'first_id': 'msg_P9dWHpBYI80HXxhmE6bmMKnX',\n",
              " 'last_id': 'msg_P9dWHpBYI80HXxhmE6bmMKnX',\n",
              " 'has_more': False}"
            ]
          },
          "metadata": {}
        }
      ]
    },
    {
      "cell_type": "code",
      "source": [
        "MATH_ASSISTANT_ID = assistant.id  # or a hard-coded ID like \"asst-...\"\n",
        "\n",
        "def submit_message(assistant_id, thread, user_message):\n",
        "    client.beta.threads.messages.create(\n",
        "        thread_id=thread.id, role=\"user\", content=user_message\n",
        "    )\n",
        "    return client.beta.threads.runs.create(\n",
        "        thread_id=thread.id,\n",
        "        assistant_id=assistant_id,\n",
        "    )\n",
        "\n",
        "\n",
        "def get_response(thread):\n",
        "    return client.beta.threads.messages.list(thread_id=thread.id, order=\"asc\")"
      ],
      "metadata": {
        "id": "kc0LIesFVXpa"
      },
      "execution_count": 16,
      "outputs": []
    },
    {
      "cell_type": "code",
      "source": [
        "def create_thread_and_run(user_input):\n",
        "    thread = client.beta.threads.create()\n",
        "    run = submit_message(MATH_ASSISTANT_ID, thread, user_input)\n",
        "    return thread, run\n",
        "\n",
        "\n",
        "# Emulating concurrent user requests\n",
        "thread1, run1 = create_thread_and_run(\n",
        "    \"I need to solve the equation `3x + 11 = 14`. Can you help me?\"\n",
        ")\n",
        "thread2, run2 = create_thread_and_run(\"Could you explain linear algebra to me?\")\n",
        "thread3, run3 = create_thread_and_run(\"I don't like math. What can I do?\")\n",
        "\n",
        "# Now all Runs are executing..."
      ],
      "metadata": {
        "id": "cH8IYqcaVfE6"
      },
      "execution_count": 17,
      "outputs": []
    },
    {
      "cell_type": "code",
      "source": [
        "import time\n",
        "\n",
        "# Pretty printing helper\n",
        "def pretty_print(messages):\n",
        "    print(\"# Messages\")\n",
        "    for m in messages:\n",
        "        print(f\"{m.role}: {m.content[0].text.value}\")\n",
        "    print()\n",
        "\n",
        "\n",
        "# Waiting in a loop\n",
        "def wait_on_run(run, thread):\n",
        "    while run.status == \"queued\" or run.status == \"in_progress\":\n",
        "        run = client.beta.threads.runs.retrieve(\n",
        "            thread_id=thread.id,\n",
        "            run_id=run.id,\n",
        "        )\n",
        "        time.sleep(0.5)\n",
        "    return run\n",
        "\n",
        "\n",
        "# Wait for Run 1\n",
        "run1 = wait_on_run(run1, thread1)\n",
        "pretty_print(get_response(thread1))\n",
        "\n",
        "# Wait for Run 2\n",
        "run2 = wait_on_run(run2, thread2)\n",
        "pretty_print(get_response(thread2))\n",
        "\n",
        "# Wait for Run 3\n",
        "run3 = wait_on_run(run3, thread3)\n",
        "pretty_print(get_response(thread3))\n",
        "\n",
        "# Thank our assistant on Thread 3 :)\n",
        "run4 = submit_message(MATH_ASSISTANT_ID, thread3, \"Thank you!\")\n",
        "run4 = wait_on_run(run4, thread3)\n",
        "pretty_print(get_response(thread3))"
      ],
      "metadata": {
        "colab": {
          "base_uri": "https://localhost:8080/"
        },
        "id": "HkzqksIJVjQN",
        "outputId": "b7b2682a-c443-44b1-b5ca-32f01d7421de"
      },
      "execution_count": 18,
      "outputs": [
        {
          "output_type": "stream",
          "name": "stdout",
          "text": [
            "# Messages\n",
            "user: I need to solve the equation `3x + 11 = 14`. Can you help me?\n",
            "assistant: Sure, subtract 11 from both sides to get `3x = 3`, then divide both sides by 3 to find `x = 1`.\n",
            "\n",
            "# Messages\n",
            "user: Could you explain linear algebra to me?\n",
            "assistant: Linear algebra is the branch of mathematics concerning linear equations, linear functions, and their representations through matrices and vector spaces.\n",
            "\n",
            "# Messages\n",
            "user: I don't like math. What can I do?\n",
            "assistant: To improve your relationship with math, try to find real-world applications that interest you, practice regularly, seek help to understand difficult concepts, and maintain a positive mindset about your ability to learn and succeed.\n",
            "\n",
            "# Messages\n",
            "user: I don't like math. What can I do?\n",
            "assistant: To improve your relationship with math, try to find real-world applications that interest you, practice regularly, seek help to understand difficult concepts, and maintain a positive mindset about your ability to learn and succeed.\n",
            "user: Thank you!\n",
            "assistant: You're welcome! If you have any more questions or need assistance with math, feel free to ask. Good luck!\n",
            "\n"
          ]
        }
      ]
    },
    {
      "cell_type": "code",
      "source": [
        "assistant = client.beta.assistants.update(\n",
        "    MATH_ASSISTANT_ID,\n",
        "    tools=[{\"type\": \"code_interpreter\"}],\n",
        ")\n",
        "show_json(assistant)"
      ],
      "metadata": {
        "colab": {
          "base_uri": "https://localhost:8080/",
          "height": 249
        },
        "id": "cnzdUKiWVwEB",
        "outputId": "cb8f7b3c-2224-4415-d7fc-89c2c1427e24"
      },
      "execution_count": 28,
      "outputs": [
        {
          "output_type": "display_data",
          "data": {
            "text/plain": [
              "{'id': 'asst_hpiJAkZwYLdvPDSTsmjLwdVl',\n",
              " 'created_at': 1720039123,\n",
              " 'description': None,\n",
              " 'instructions': 'You are a personal math tutor. Answer questions briefly, in a sentence or less.',\n",
              " 'metadata': {},\n",
              " 'model': 'gpt-4-1106-preview',\n",
              " 'name': 'Math Tutor',\n",
              " 'object': 'assistant',\n",
              " 'tools': [{'type': 'code_interpreter'}],\n",
              " 'response_format': 'auto',\n",
              " 'temperature': 1.0,\n",
              " 'tool_resources': {'code_interpreter': {'file_ids': []}, 'file_search': None},\n",
              " 'top_p': 1.0}"
            ]
          },
          "metadata": {}
        }
      ]
    },
    {
      "cell_type": "code",
      "source": [
        "thread, run = create_thread_and_run(\n",
        "    \"Generate the first 20 fibbonaci numbers with code.\"\n",
        ")\n",
        "run = wait_on_run(run, thread)\n",
        "pretty_print(get_response(thread))"
      ],
      "metadata": {
        "colab": {
          "base_uri": "https://localhost:8080/"
        },
        "id": "wBAUa9B4VwWC",
        "outputId": "7e561428-042e-419e-f218-cacfd4f52025"
      },
      "execution_count": 20,
      "outputs": [
        {
          "output_type": "stream",
          "name": "stdout",
          "text": [
            "# Messages\n",
            "user: Generate the first 20 fibbonaci numbers with code.\n",
            "assistant: The first 20 Fibonacci numbers are: [0, 1, 1, 2, 3, 5, 8, 13, 21, 34, 55, 89, 144, 233, 377, 610, 987, 1597, 2584, 4181].\n",
            "\n"
          ]
        }
      ]
    },
    {
      "cell_type": "code",
      "source": [
        "run_steps = client.beta.threads.runs.steps.list(\n",
        "    thread_id=thread.id, run_id=run.id, order=\"asc\"\n",
        ")"
      ],
      "metadata": {
        "id": "xR5zcQLhWFaT"
      },
      "execution_count": 21,
      "outputs": []
    },
    {
      "cell_type": "code",
      "source": [
        "for step in run_steps.data:\n",
        "    step_details = step.step_details\n",
        "    print(json.dumps(show_json(step_details), indent=4))"
      ],
      "metadata": {
        "colab": {
          "base_uri": "https://localhost:8080/",
          "height": 196
        },
        "id": "XZjwHPtTWKVH",
        "outputId": "7c770694-fa67-415c-baac-0b251c7c76b3"
      },
      "execution_count": 22,
      "outputs": [
        {
          "output_type": "display_data",
          "data": {
            "text/plain": [
              "{'tool_calls': [{'id': 'call_116uaRe9GCK1aKXl7XYmh6fE',\n",
              "   'code_interpreter': {'input': 'def fibonacci(n):\\n    sequence = [0, 1]\\n    while len(sequence) < n:\\n        sequence.append(sequence[-1] + sequence[-2])\\n    return sequence\\n\\nfirst_20_fibonacci = fibonacci(20)\\nfirst_20_fibonacci',\n",
              "    'outputs': []},\n",
              "   'type': 'code_interpreter'}],\n",
              " 'type': 'tool_calls'}"
            ]
          },
          "metadata": {}
        },
        {
          "output_type": "stream",
          "name": "stdout",
          "text": [
            "null\n"
          ]
        },
        {
          "output_type": "display_data",
          "data": {
            "text/plain": [
              "{'message_creation': {'message_id': 'msg_JfS7MzMklKBOx1hBxCHLor94'},\n",
              " 'type': 'message_creation'}"
            ]
          },
          "metadata": {}
        },
        {
          "output_type": "stream",
          "name": "stdout",
          "text": [
            "null\n"
          ]
        }
      ]
    },
    {
      "cell_type": "code",
      "source": [
        "import requests\n",
        "DATASET_URL = \"https://github.com/openai/openai-cookbook/raw/main/examples/data/language_models_are_unsupervised_multitask_learners.pdf\"\n",
        "response = requests.get(DATASET_URL)\n",
        "DATASET_PATH = \"language_models_are_unsupervised_multitask_learners.pdf\"\n",
        "with open(DATASET_PATH, 'wb') as file:\n",
        "    file.write(response.content)"
      ],
      "metadata": {
        "id": "GusHz1wlWaAR"
      },
      "execution_count": 23,
      "outputs": []
    },
    {
      "cell_type": "code",
      "source": [
        "# Create a vector store caled \"Financial Statements\"\n",
        "vector_store = client.beta.vector_stores.create(name=\"docs\")\n",
        "\n",
        "# Ready the files for upload to OpenAI\n",
        "file_paths = [\"language_models_are_unsupervised_multitask_learners.pdf\"]\n",
        "file_streams = [open(path, \"rb\") for path in file_paths]\n",
        "\n",
        "# Use the upload and poll SDK helper to upload the files, add them to the vector store,\n",
        "# and poll the status of the file batch for completion.\n",
        "file_batch = client.beta.vector_stores.file_batches.upload_and_poll(\n",
        "  vector_store_id=vector_store.id, files=file_streams\n",
        ")\n",
        "\n",
        "# You can print the status and the file counts of the batch to see the result of this operation.\n",
        "print(file_batch.status)\n",
        "print(file_batch.file_counts)"
      ],
      "metadata": {
        "colab": {
          "base_uri": "https://localhost:8080/"
        },
        "id": "ES1aFt2YYq0Z",
        "outputId": "45813042-ee69-4b74-c972-da7d1ffaea18"
      },
      "execution_count": 38,
      "outputs": [
        {
          "output_type": "stream",
          "name": "stdout",
          "text": [
            "completed\n",
            "FileCounts(cancelled=0, completed=1, failed=0, in_progress=0, total=1)\n"
          ]
        }
      ]
    },
    {
      "cell_type": "code",
      "source": [
        "# Update Assistant\n",
        "assistant = client.beta.assistants.update(\n",
        "    MATH_ASSISTANT_ID,\n",
        "    tools=[{\"type\": \"code_interpreter\"}, {\"type\": \"file_search\"}],\n",
        "    tool_resources={\"file_search\": {\"vector_store_ids\": [vector_store.id]}},\n",
        ")\n",
        "show_json(assistant)"
      ],
      "metadata": {
        "colab": {
          "base_uri": "https://localhost:8080/",
          "height": 285
        },
        "id": "pbKyniXhWSSC",
        "outputId": "872e4c69-9bdb-46e3-fd08-2df23514f830"
      },
      "execution_count": 40,
      "outputs": [
        {
          "output_type": "display_data",
          "data": {
            "text/plain": [
              "{'id': 'asst_hpiJAkZwYLdvPDSTsmjLwdVl',\n",
              " 'created_at': 1720039123,\n",
              " 'description': None,\n",
              " 'instructions': 'You are a personal math tutor. Answer questions briefly, in a sentence or less.',\n",
              " 'metadata': {},\n",
              " 'model': 'gpt-4-1106-preview',\n",
              " 'name': 'Math Tutor',\n",
              " 'object': 'assistant',\n",
              " 'tools': [{'type': 'code_interpreter'},\n",
              "  {'type': 'file_search', 'file_search': None}],\n",
              " 'response_format': 'auto',\n",
              " 'temperature': 1.0,\n",
              " 'tool_resources': {'code_interpreter': {'file_ids': []},\n",
              "  'file_search': {'vector_store_ids': ['vs_6azWMGrlGC9t6CbUQJiQ380F']}},\n",
              " 'top_p': 1.0}"
            ]
          },
          "metadata": {}
        }
      ]
    },
    {
      "cell_type": "code",
      "source": [
        "thread, run = create_thread_and_run(\n",
        "    \"What are some cool math concepts behind this ML paper pdf? Explain in two sentences.\"\n",
        ")\n",
        "run = wait_on_run(run, thread)\n",
        "pretty_print(get_response(thread))"
      ],
      "metadata": {
        "colab": {
          "base_uri": "https://localhost:8080/"
        },
        "id": "pjdU57sKZGpU",
        "outputId": "696a4a96-27f7-4647-e728-bcbd9f7b5872"
      },
      "execution_count": 41,
      "outputs": [
        {
          "output_type": "stream",
          "name": "stdout",
          "text": [
            "# Messages\n",
            "user: What are some cool math concepts behind this ML paper pdf? Explain in two sentences.\n",
            "assistant: The paper discusses various cool math concepts applied to Machine Learning and Natural Language Processing, such as unsupervised distribution estimation, joint probability factorization, conditional probabilities, and the use of self-attention mechanisms like the Transformer architecture. These are fundamental probabilistic and neural network concepts that allow language models to perform multiple tasks without task-specific training, sometimes referred to as zero-shot learning  .\n",
            "\n"
          ]
        }
      ]
    },
    {
      "cell_type": "code",
      "source": [
        "def get_mock_response_from_user_multiple_choice():\n",
        "    return \"a\"\n",
        "\n",
        "\n",
        "def get_mock_response_from_user_free_response():\n",
        "    return \"I don't know.\"\n",
        "\n",
        "\n",
        "def display_quiz(title, questions):\n",
        "    print(\"Quiz:\", title)\n",
        "    print()\n",
        "    responses = []\n",
        "\n",
        "    for q in questions:\n",
        "        print(q[\"question_text\"])\n",
        "        response = \"\"\n",
        "\n",
        "        # If multiple choice, print options\n",
        "        if q[\"question_type\"] == \"MULTIPLE_CHOICE\":\n",
        "            for i, choice in enumerate(q[\"choices\"]):\n",
        "                print(f\"{i}. {choice}\")\n",
        "            response = get_mock_response_from_user_multiple_choice()\n",
        "\n",
        "        # Otherwise, just get response\n",
        "        elif q[\"question_type\"] == \"FREE_RESPONSE\":\n",
        "            response = get_mock_response_from_user_free_response()\n",
        "\n",
        "        responses.append(response)\n",
        "        print()\n",
        "\n",
        "    return responses"
      ],
      "metadata": {
        "id": "9dTTz2MOZdAb"
      },
      "execution_count": 42,
      "outputs": []
    },
    {
      "cell_type": "code",
      "source": [
        "responses = display_quiz(\n",
        "    \"Sample Quiz\",\n",
        "    [\n",
        "        {\"question_text\": \"What is your name?\", \"question_type\": \"FREE_RESPONSE\"},\n",
        "        {\n",
        "            \"question_text\": \"What is your favorite color?\",\n",
        "            \"question_type\": \"MULTIPLE_CHOICE\",\n",
        "            \"choices\": [\"Red\", \"Blue\", \"Green\", \"Yellow\"],\n",
        "        },\n",
        "    ],\n",
        ")\n",
        "print(\"Responses:\", responses)"
      ],
      "metadata": {
        "colab": {
          "base_uri": "https://localhost:8080/"
        },
        "id": "TKWfG9kAZdxB",
        "outputId": "5c99f61f-33a5-406f-ff66-fbdbf4e636c6"
      },
      "execution_count": 43,
      "outputs": [
        {
          "output_type": "stream",
          "name": "stdout",
          "text": [
            "Quiz: Sample Quiz\n",
            "\n",
            "What is your name?\n",
            "\n",
            "What is your favorite color?\n",
            "0. Red\n",
            "1. Blue\n",
            "2. Green\n",
            "3. Yellow\n",
            "\n",
            "Responses: [\"I don't know.\", 'a']\n"
          ]
        }
      ]
    },
    {
      "cell_type": "code",
      "source": [
        "function_json = {\n",
        "    \"name\": \"display_quiz\",\n",
        "    \"description\": \"Displays a quiz to the student, and returns the student's response. A single quiz can have multiple questions.\",\n",
        "    \"parameters\": {\n",
        "        \"type\": \"object\",\n",
        "        \"properties\": {\n",
        "            \"title\": {\"type\": \"string\"},\n",
        "            \"questions\": {\n",
        "                \"type\": \"array\",\n",
        "                \"description\": \"An array of questions, each with a title and potentially options (if multiple choice).\",\n",
        "                \"items\": {\n",
        "                    \"type\": \"object\",\n",
        "                    \"properties\": {\n",
        "                        \"question_text\": {\"type\": \"string\"},\n",
        "                        \"question_type\": {\n",
        "                            \"type\": \"string\",\n",
        "                            \"enum\": [\"MULTIPLE_CHOICE\", \"FREE_RESPONSE\"],\n",
        "                        },\n",
        "                        \"choices\": {\"type\": \"array\", \"items\": {\"type\": \"string\"}},\n",
        "                    },\n",
        "                    \"required\": [\"question_text\"],\n",
        "                },\n",
        "            },\n",
        "        },\n",
        "        \"required\": [\"title\", \"questions\"],\n",
        "    },\n",
        "}"
      ],
      "metadata": {
        "id": "zzMJJEJrZkN2"
      },
      "execution_count": 44,
      "outputs": []
    },
    {
      "cell_type": "code",
      "source": [
        "assistant = client.beta.assistants.update(\n",
        "    MATH_ASSISTANT_ID,\n",
        "    tools=[\n",
        "        {\"type\": \"code_interpreter\"},\n",
        "        {\"type\": \"file_search\"},\n",
        "        {\"type\": \"function\", \"function\": function_json},\n",
        "    ],\n",
        ")\n",
        "show_json(assistant)"
      ],
      "metadata": {
        "colab": {
          "base_uri": "https://localhost:8080/",
          "height": 535
        },
        "id": "txx_o7LdZkir",
        "outputId": "801b8e17-cd08-4921-b9d8-2d028c365896"
      },
      "execution_count": 46,
      "outputs": [
        {
          "output_type": "display_data",
          "data": {
            "text/plain": [
              "{'id': 'asst_hpiJAkZwYLdvPDSTsmjLwdVl',\n",
              " 'created_at': 1720039123,\n",
              " 'description': None,\n",
              " 'instructions': 'You are a personal math tutor. Answer questions briefly, in a sentence or less.',\n",
              " 'metadata': {},\n",
              " 'model': 'gpt-4-1106-preview',\n",
              " 'name': 'Math Tutor',\n",
              " 'object': 'assistant',\n",
              " 'tools': [{'type': 'code_interpreter'},\n",
              "  {'type': 'file_search', 'file_search': None},\n",
              "  {'function': {'name': 'display_quiz',\n",
              "    'description': \"Displays a quiz to the student, and returns the student's response. A single quiz can have multiple questions.\",\n",
              "    'parameters': {'type': 'object',\n",
              "     'properties': {'title': {'type': 'string'},\n",
              "      'questions': {'type': 'array',\n",
              "       'description': 'An array of questions, each with a title and potentially options (if multiple choice).',\n",
              "       'items': {'type': 'object',\n",
              "        'properties': {'question_text': {'type': 'string'},\n",
              "         'question_type': {'type': 'string',\n",
              "          'enum': ['MULTIPLE_CHOICE', 'FREE_RESPONSE']},\n",
              "         'choices': {'type': 'array', 'items': {'type': 'string'}}},\n",
              "        'required': ['question_text']}}},\n",
              "     'required': ['title', 'questions']}},\n",
              "   'type': 'function'}],\n",
              " 'response_format': 'auto',\n",
              " 'temperature': 1.0,\n",
              " 'tool_resources': {'code_interpreter': {'file_ids': []},\n",
              "  'file_search': {'vector_store_ids': ['vs_6azWMGrlGC9t6CbUQJiQ380F']}},\n",
              " 'top_p': 1.0}"
            ]
          },
          "metadata": {}
        }
      ]
    },
    {
      "cell_type": "code",
      "source": [
        "thread, run = create_thread_and_run(\n",
        "    \"Make a quiz with 2 questions: One open ended, one multiple choice. Then, give me feedback for the responses.\"\n",
        ")\n",
        "run = wait_on_run(run, thread)\n",
        "run.status"
      ],
      "metadata": {
        "colab": {
          "base_uri": "https://localhost:8080/",
          "height": 35
        },
        "id": "uuEDaaZtZocK",
        "outputId": "707b2e00-1dcf-4572-8713-63644f98fc33"
      },
      "execution_count": 47,
      "outputs": [
        {
          "output_type": "execute_result",
          "data": {
            "text/plain": [
              "'requires_action'"
            ],
            "application/vnd.google.colaboratory.intrinsic+json": {
              "type": "string"
            }
          },
          "metadata": {},
          "execution_count": 47
        }
      ]
    },
    {
      "cell_type": "code",
      "source": [
        "show_json(run)"
      ],
      "metadata": {
        "colab": {
          "base_uri": "https://localhost:8080/",
          "height": 892
        },
        "id": "w4kPhwbQZ4AX",
        "outputId": "b94a87f9-2ad7-4e06-f022-084f7d6e5ec3"
      },
      "execution_count": 48,
      "outputs": [
        {
          "output_type": "display_data",
          "data": {
            "text/plain": [
              "{'id': 'run_kMBODcc4z5GIzUYdsO9l4Syh',\n",
              " 'assistant_id': 'asst_hpiJAkZwYLdvPDSTsmjLwdVl',\n",
              " 'cancelled_at': None,\n",
              " 'completed_at': None,\n",
              " 'created_at': 1720040505,\n",
              " 'expires_at': 1720041105,\n",
              " 'failed_at': None,\n",
              " 'incomplete_details': None,\n",
              " 'instructions': 'You are a personal math tutor. Answer questions briefly, in a sentence or less.',\n",
              " 'last_error': None,\n",
              " 'max_completion_tokens': None,\n",
              " 'max_prompt_tokens': None,\n",
              " 'metadata': {},\n",
              " 'model': 'gpt-4-1106-preview',\n",
              " 'object': 'thread.run',\n",
              " 'parallel_tool_calls': True,\n",
              " 'required_action': {'submit_tool_outputs': {'tool_calls': [{'id': 'call_mIxVL9PqV4c5Vu6Vn70ZVmPM',\n",
              "     'function': {'arguments': '{\"title\": \"Math Concepts Quiz\", \"questions\": [{\"question_text\": \"Explain in your own words what a prime number is.\", \"question_type\": \"FREE_RESPONSE\"}, {\"question_text\": \"Which of the following numbers is a prime number?\", \"question_type\": \"MULTIPLE_CHOICE\", \"choices\": [\"15\", \"22\", \"37\", \"51\"]}]}',\n",
              "      'name': 'display_quiz'},\n",
              "     'type': 'function'}]},\n",
              "  'type': 'submit_tool_outputs'},\n",
              " 'response_format': 'auto',\n",
              " 'started_at': 1720040505,\n",
              " 'status': 'requires_action',\n",
              " 'thread_id': 'thread_ZQH4qp6JPVVmagIrzedtFSuY',\n",
              " 'tool_choice': 'auto',\n",
              " 'tools': [{'type': 'code_interpreter'},\n",
              "  {'type': 'file_search', 'file_search': None},\n",
              "  {'function': {'name': 'display_quiz',\n",
              "    'description': \"Displays a quiz to the student, and returns the student's response. A single quiz can have multiple questions.\",\n",
              "    'parameters': {'type': 'object',\n",
              "     'properties': {'title': {'type': 'string'},\n",
              "      'questions': {'type': 'array',\n",
              "       'description': 'An array of questions, each with a title and potentially options (if multiple choice).',\n",
              "       'items': {'type': 'object',\n",
              "        'properties': {'question_text': {'type': 'string'},\n",
              "         'question_type': {'type': 'string',\n",
              "          'enum': ['MULTIPLE_CHOICE', 'FREE_RESPONSE']},\n",
              "         'choices': {'type': 'array', 'items': {'type': 'string'}}},\n",
              "        'required': ['question_text']}}},\n",
              "     'required': ['title', 'questions']}},\n",
              "   'type': 'function'}],\n",
              " 'truncation_strategy': {'type': 'auto', 'last_messages': None},\n",
              " 'usage': None,\n",
              " 'temperature': 1.0,\n",
              " 'top_p': 1.0,\n",
              " 'tool_resources': {}}"
            ]
          },
          "metadata": {}
        }
      ]
    },
    {
      "cell_type": "code",
      "source": [
        "# Extract single tool call\n",
        "tool_call = run.required_action.submit_tool_outputs.tool_calls[0]\n",
        "name = tool_call.function.name\n",
        "arguments = json.loads(tool_call.function.arguments)\n",
        "\n",
        "print(\"Function Name:\", name)\n",
        "print(\"Function Arguments:\")\n",
        "arguments"
      ],
      "metadata": {
        "colab": {
          "base_uri": "https://localhost:8080/"
        },
        "id": "FcUGG_iZZ8s7",
        "outputId": "16b67935-07ac-4e2b-83b1-b08712bc093b"
      },
      "execution_count": 49,
      "outputs": [
        {
          "output_type": "stream",
          "name": "stdout",
          "text": [
            "Function Name: display_quiz\n",
            "Function Arguments:\n"
          ]
        },
        {
          "output_type": "execute_result",
          "data": {
            "text/plain": [
              "{'title': 'Math Concepts Quiz',\n",
              " 'questions': [{'question_text': 'Explain in your own words what a prime number is.',\n",
              "   'question_type': 'FREE_RESPONSE'},\n",
              "  {'question_text': 'Which of the following numbers is a prime number?',\n",
              "   'question_type': 'MULTIPLE_CHOICE',\n",
              "   'choices': ['15', '22', '37', '51']}]}"
            ]
          },
          "metadata": {},
          "execution_count": 49
        }
      ]
    },
    {
      "cell_type": "code",
      "source": [
        "responses = display_quiz(arguments[\"title\"], arguments[\"questions\"])\n",
        "print(\"Responses:\", responses)"
      ],
      "metadata": {
        "colab": {
          "base_uri": "https://localhost:8080/"
        },
        "id": "Zgl4DedOZ_76",
        "outputId": "f878945d-d31e-41d2-ffe1-859688d80a1a"
      },
      "execution_count": 50,
      "outputs": [
        {
          "output_type": "stream",
          "name": "stdout",
          "text": [
            "Quiz: Math Concepts Quiz\n",
            "\n",
            "Explain in your own words what a prime number is.\n",
            "\n",
            "Which of the following numbers is a prime number?\n",
            "0. 15\n",
            "1. 22\n",
            "2. 37\n",
            "3. 51\n",
            "\n",
            "Responses: [\"I don't know.\", 'a']\n"
          ]
        }
      ]
    },
    {
      "cell_type": "code",
      "source": [
        "run = client.beta.threads.runs.submit_tool_outputs(\n",
        "    thread_id=thread.id,\n",
        "    run_id=run.id,\n",
        "    tool_outputs=[\n",
        "        {\n",
        "            \"tool_call_id\": tool_call.id,\n",
        "            \"output\": json.dumps(responses),\n",
        "        }\n",
        "    ],\n",
        ")\n",
        "show_json(run)"
      ],
      "metadata": {
        "colab": {
          "base_uri": "https://localhost:8080/",
          "height": 785
        },
        "id": "2NkLUZvqaCsH",
        "outputId": "2fbbecb5-a73a-422d-e036-143ccf1df831"
      },
      "execution_count": 51,
      "outputs": [
        {
          "output_type": "display_data",
          "data": {
            "text/plain": [
              "{'id': 'run_kMBODcc4z5GIzUYdsO9l4Syh',\n",
              " 'assistant_id': 'asst_hpiJAkZwYLdvPDSTsmjLwdVl',\n",
              " 'cancelled_at': None,\n",
              " 'completed_at': None,\n",
              " 'created_at': 1720040505,\n",
              " 'expires_at': 1720041105,\n",
              " 'failed_at': None,\n",
              " 'incomplete_details': None,\n",
              " 'instructions': 'You are a personal math tutor. Answer questions briefly, in a sentence or less.',\n",
              " 'last_error': None,\n",
              " 'max_completion_tokens': None,\n",
              " 'max_prompt_tokens': None,\n",
              " 'metadata': {},\n",
              " 'model': 'gpt-4-1106-preview',\n",
              " 'object': 'thread.run',\n",
              " 'parallel_tool_calls': True,\n",
              " 'required_action': None,\n",
              " 'response_format': 'auto',\n",
              " 'started_at': 1720040505,\n",
              " 'status': 'queued',\n",
              " 'thread_id': 'thread_ZQH4qp6JPVVmagIrzedtFSuY',\n",
              " 'tool_choice': 'auto',\n",
              " 'tools': [{'type': 'code_interpreter'},\n",
              "  {'type': 'file_search', 'file_search': None},\n",
              "  {'function': {'name': 'display_quiz',\n",
              "    'description': \"Displays a quiz to the student, and returns the student's response. A single quiz can have multiple questions.\",\n",
              "    'parameters': {'type': 'object',\n",
              "     'properties': {'title': {'type': 'string'},\n",
              "      'questions': {'type': 'array',\n",
              "       'description': 'An array of questions, each with a title and potentially options (if multiple choice).',\n",
              "       'items': {'type': 'object',\n",
              "        'properties': {'question_text': {'type': 'string'},\n",
              "         'question_type': {'type': 'string',\n",
              "          'enum': ['MULTIPLE_CHOICE', 'FREE_RESPONSE']},\n",
              "         'choices': {'type': 'array', 'items': {'type': 'string'}}},\n",
              "        'required': ['question_text']}}},\n",
              "     'required': ['title', 'questions']}},\n",
              "   'type': 'function'}],\n",
              " 'truncation_strategy': {'type': 'auto', 'last_messages': None},\n",
              " 'usage': None,\n",
              " 'temperature': 1.0,\n",
              " 'top_p': 1.0,\n",
              " 'tool_resources': {}}"
            ]
          },
          "metadata": {}
        }
      ]
    },
    {
      "cell_type": "code",
      "source": [
        "run = wait_on_run(run, thread)\n",
        "pretty_print(get_response(thread))"
      ],
      "metadata": {
        "colab": {
          "base_uri": "https://localhost:8080/"
        },
        "id": "OfjbwXLKaFJC",
        "outputId": "97a7009e-0de9-42fc-bdeb-caf458c41774"
      },
      "execution_count": 52,
      "outputs": [
        {
          "output_type": "stream",
          "name": "stdout",
          "text": [
            "# Messages\n",
            "user: Make a quiz with 2 questions: One open ended, one multiple choice. Then, give me feedback for the responses.\n",
            "assistant: For the free response question, the answer \"I don't know\" shows there may be a gap in understanding what a prime number is. A prime number is a natural number greater than 1 that has no positive divisors other than 1 and itself. It's important to understand this concept because prime numbers are the building blocks of whole numbers and have various applications in mathematics, especially in number theory and cryptography.\n",
            "\n",
            "For the multiple choice question, the correct answer is \"37,\" which is a prime number because it has no other divisors except for 1 and itself. The chosen answer \"a\" corresponds to \"15,\" which is not a prime number since it can be divided evenly by 1, 3, 5, and 15. It might be helpful to review the definition of prime numbers and practice with some examples to better identify them.\n",
            "\n"
          ]
        }
      ]
    }
  ]
}