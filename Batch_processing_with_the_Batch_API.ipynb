{
  "nbformat": 4,
  "nbformat_minor": 0,
  "metadata": {
    "colab": {
      "provenance": [],
      "authorship_tag": "ABX9TyMSzTnb60UUfbLn2y1QE1z9",
      "include_colab_link": true
    },
    "kernelspec": {
      "name": "python3",
      "display_name": "Python 3"
    },
    "language_info": {
      "name": "python"
    }
  },
  "cells": [
    {
      "cell_type": "markdown",
      "metadata": {
        "id": "view-in-github",
        "colab_type": "text"
      },
      "source": [
        "<a href=\"https://colab.research.google.com/github/elichen/oai-playground/blob/main/Batch_processing_with_the_Batch_API.ipynb\" target=\"_parent\"><img src=\"https://colab.research.google.com/assets/colab-badge.svg\" alt=\"Open In Colab\"/></a>"
      ]
    },
    {
      "cell_type": "code",
      "source": [
        "%pip install --upgrade openai --quiet"
      ],
      "metadata": {
        "colab": {
          "base_uri": "https://localhost:8080/"
        },
        "id": "g1y0MuUF9TSg",
        "outputId": "ba81b89f-31cf-4e6d-81ed-e6f38aed8d4b"
      },
      "execution_count": 2,
      "outputs": [
        {
          "output_type": "stream",
          "name": "stdout",
          "text": [
            "\u001b[2K     \u001b[90m━━━━━━━━━━━━━━━━━━━━━━━━━━━━━━━━━━━━━━━━\u001b[0m \u001b[32m328.3/328.3 kB\u001b[0m \u001b[31m5.1 MB/s\u001b[0m eta \u001b[36m0:00:00\u001b[0m\n",
            "\u001b[2K     \u001b[90m━━━━━━━━━━━━━━━━━━━━━━━━━━━━━━━━━━━━━━━━\u001b[0m \u001b[32m75.6/75.6 kB\u001b[0m \u001b[31m6.8 MB/s\u001b[0m eta \u001b[36m0:00:00\u001b[0m\n",
            "\u001b[2K     \u001b[90m━━━━━━━━━━━━━━━━━━━━━━━━━━━━━━━━━━━━━━━━\u001b[0m \u001b[32m77.9/77.9 kB\u001b[0m \u001b[31m5.3 MB/s\u001b[0m eta \u001b[36m0:00:00\u001b[0m\n",
            "\u001b[2K     \u001b[90m━━━━━━━━━━━━━━━━━━━━━━━━━━━━━━━━━━━━━━━━\u001b[0m \u001b[32m58.3/58.3 kB\u001b[0m \u001b[31m4.2 MB/s\u001b[0m eta \u001b[36m0:00:00\u001b[0m\n",
            "\u001b[?25h"
          ]
        }
      ]
    },
    {
      "cell_type": "code",
      "execution_count": 3,
      "metadata": {
        "id": "RJHBZXem9D43"
      },
      "outputs": [],
      "source": [
        "from google.colab import userdata\n",
        "from openai import OpenAI\n",
        "client = OpenAI(api_key=userdata.get('openai-key'))"
      ]
    },
    {
      "cell_type": "code",
      "source": [
        "import json\n",
        "import pandas as pd\n",
        "from IPython.display import Image, display"
      ],
      "metadata": {
        "id": "yhEVBIB29Pxs"
      },
      "execution_count": 4,
      "outputs": []
    },
    {
      "cell_type": "code",
      "source": [
        "import requests\n",
        "DATASET_URL = \"https://github.com/openai/openai-cookbook/raw/main/examples/data/imdb_top_1000.csv\"\n",
        "response = requests.get(DATASET_URL)\n",
        "DATASET_PATH = \"imdb_top_1000.csv\"\n",
        "with open(DATASET_PATH, 'wb') as file:\n",
        "    file.write(response.content)"
      ],
      "metadata": {
        "id": "KtW_dX6f_Ngb"
      },
      "execution_count": 6,
      "outputs": []
    },
    {
      "cell_type": "code",
      "source": [
        "df = pd.read_csv(DATASET_PATH)\n",
        "df.head()"
      ],
      "metadata": {
        "colab": {
          "base_uri": "https://localhost:8080/",
          "height": 678
        },
        "id": "_uJL4yQI-S4s",
        "outputId": "a038476f-7cad-492b-b72a-23ca5ab5d579"
      },
      "execution_count": 7,
      "outputs": [
        {
          "output_type": "execute_result",
          "data": {
            "text/plain": [
              "                                         Poster_Link  \\\n",
              "0  https://m.media-amazon.com/images/M/MV5BMDFkYT...   \n",
              "1  https://m.media-amazon.com/images/M/MV5BM2MyNj...   \n",
              "2  https://m.media-amazon.com/images/M/MV5BMTMxNT...   \n",
              "3  https://m.media-amazon.com/images/M/MV5BMWMwMG...   \n",
              "4  https://m.media-amazon.com/images/M/MV5BMWU4N2...   \n",
              "\n",
              "               Series_Title Released_Year Certificate  Runtime  \\\n",
              "0  The Shawshank Redemption          1994           A  142 min   \n",
              "1             The Godfather          1972           A  175 min   \n",
              "2           The Dark Knight          2008          UA  152 min   \n",
              "3    The Godfather: Part II          1974           A  202 min   \n",
              "4              12 Angry Men          1957           U   96 min   \n",
              "\n",
              "                  Genre  IMDB_Rating  \\\n",
              "0                 Drama          9.3   \n",
              "1          Crime, Drama          9.2   \n",
              "2  Action, Crime, Drama          9.0   \n",
              "3          Crime, Drama          9.0   \n",
              "4          Crime, Drama          9.0   \n",
              "\n",
              "                                            Overview  Meta_score  \\\n",
              "0  Two imprisoned men bond over a number of years...        80.0   \n",
              "1  An organized crime dynasty's aging patriarch t...       100.0   \n",
              "2  When the menace known as the Joker wreaks havo...        84.0   \n",
              "3  The early life and career of Vito Corleone in ...        90.0   \n",
              "4  A jury holdout attempts to prevent a miscarria...        96.0   \n",
              "\n",
              "               Director           Star1           Star2          Star3  \\\n",
              "0        Frank Darabont     Tim Robbins  Morgan Freeman     Bob Gunton   \n",
              "1  Francis Ford Coppola   Marlon Brando       Al Pacino     James Caan   \n",
              "2     Christopher Nolan  Christian Bale    Heath Ledger  Aaron Eckhart   \n",
              "3  Francis Ford Coppola       Al Pacino  Robert De Niro  Robert Duvall   \n",
              "4          Sidney Lumet     Henry Fonda     Lee J. Cobb  Martin Balsam   \n",
              "\n",
              "            Star4  No_of_Votes        Gross  \n",
              "0  William Sadler      2343110   28,341,469  \n",
              "1    Diane Keaton      1620367  134,966,411  \n",
              "2   Michael Caine      2303232  534,858,444  \n",
              "3    Diane Keaton      1129952   57,300,000  \n",
              "4    John Fiedler       689845    4,360,000  "
            ],
            "text/html": [
              "\n",
              "  <div id=\"df-be09def4-574a-4369-a719-8d0af689499b\" class=\"colab-df-container\">\n",
              "    <div>\n",
              "<style scoped>\n",
              "    .dataframe tbody tr th:only-of-type {\n",
              "        vertical-align: middle;\n",
              "    }\n",
              "\n",
              "    .dataframe tbody tr th {\n",
              "        vertical-align: top;\n",
              "    }\n",
              "\n",
              "    .dataframe thead th {\n",
              "        text-align: right;\n",
              "    }\n",
              "</style>\n",
              "<table border=\"1\" class=\"dataframe\">\n",
              "  <thead>\n",
              "    <tr style=\"text-align: right;\">\n",
              "      <th></th>\n",
              "      <th>Poster_Link</th>\n",
              "      <th>Series_Title</th>\n",
              "      <th>Released_Year</th>\n",
              "      <th>Certificate</th>\n",
              "      <th>Runtime</th>\n",
              "      <th>Genre</th>\n",
              "      <th>IMDB_Rating</th>\n",
              "      <th>Overview</th>\n",
              "      <th>Meta_score</th>\n",
              "      <th>Director</th>\n",
              "      <th>Star1</th>\n",
              "      <th>Star2</th>\n",
              "      <th>Star3</th>\n",
              "      <th>Star4</th>\n",
              "      <th>No_of_Votes</th>\n",
              "      <th>Gross</th>\n",
              "    </tr>\n",
              "  </thead>\n",
              "  <tbody>\n",
              "    <tr>\n",
              "      <th>0</th>\n",
              "      <td>https://m.media-amazon.com/images/M/MV5BMDFkYT...</td>\n",
              "      <td>The Shawshank Redemption</td>\n",
              "      <td>1994</td>\n",
              "      <td>A</td>\n",
              "      <td>142 min</td>\n",
              "      <td>Drama</td>\n",
              "      <td>9.3</td>\n",
              "      <td>Two imprisoned men bond over a number of years...</td>\n",
              "      <td>80.0</td>\n",
              "      <td>Frank Darabont</td>\n",
              "      <td>Tim Robbins</td>\n",
              "      <td>Morgan Freeman</td>\n",
              "      <td>Bob Gunton</td>\n",
              "      <td>William Sadler</td>\n",
              "      <td>2343110</td>\n",
              "      <td>28,341,469</td>\n",
              "    </tr>\n",
              "    <tr>\n",
              "      <th>1</th>\n",
              "      <td>https://m.media-amazon.com/images/M/MV5BM2MyNj...</td>\n",
              "      <td>The Godfather</td>\n",
              "      <td>1972</td>\n",
              "      <td>A</td>\n",
              "      <td>175 min</td>\n",
              "      <td>Crime, Drama</td>\n",
              "      <td>9.2</td>\n",
              "      <td>An organized crime dynasty's aging patriarch t...</td>\n",
              "      <td>100.0</td>\n",
              "      <td>Francis Ford Coppola</td>\n",
              "      <td>Marlon Brando</td>\n",
              "      <td>Al Pacino</td>\n",
              "      <td>James Caan</td>\n",
              "      <td>Diane Keaton</td>\n",
              "      <td>1620367</td>\n",
              "      <td>134,966,411</td>\n",
              "    </tr>\n",
              "    <tr>\n",
              "      <th>2</th>\n",
              "      <td>https://m.media-amazon.com/images/M/MV5BMTMxNT...</td>\n",
              "      <td>The Dark Knight</td>\n",
              "      <td>2008</td>\n",
              "      <td>UA</td>\n",
              "      <td>152 min</td>\n",
              "      <td>Action, Crime, Drama</td>\n",
              "      <td>9.0</td>\n",
              "      <td>When the menace known as the Joker wreaks havo...</td>\n",
              "      <td>84.0</td>\n",
              "      <td>Christopher Nolan</td>\n",
              "      <td>Christian Bale</td>\n",
              "      <td>Heath Ledger</td>\n",
              "      <td>Aaron Eckhart</td>\n",
              "      <td>Michael Caine</td>\n",
              "      <td>2303232</td>\n",
              "      <td>534,858,444</td>\n",
              "    </tr>\n",
              "    <tr>\n",
              "      <th>3</th>\n",
              "      <td>https://m.media-amazon.com/images/M/MV5BMWMwMG...</td>\n",
              "      <td>The Godfather: Part II</td>\n",
              "      <td>1974</td>\n",
              "      <td>A</td>\n",
              "      <td>202 min</td>\n",
              "      <td>Crime, Drama</td>\n",
              "      <td>9.0</td>\n",
              "      <td>The early life and career of Vito Corleone in ...</td>\n",
              "      <td>90.0</td>\n",
              "      <td>Francis Ford Coppola</td>\n",
              "      <td>Al Pacino</td>\n",
              "      <td>Robert De Niro</td>\n",
              "      <td>Robert Duvall</td>\n",
              "      <td>Diane Keaton</td>\n",
              "      <td>1129952</td>\n",
              "      <td>57,300,000</td>\n",
              "    </tr>\n",
              "    <tr>\n",
              "      <th>4</th>\n",
              "      <td>https://m.media-amazon.com/images/M/MV5BMWU4N2...</td>\n",
              "      <td>12 Angry Men</td>\n",
              "      <td>1957</td>\n",
              "      <td>U</td>\n",
              "      <td>96 min</td>\n",
              "      <td>Crime, Drama</td>\n",
              "      <td>9.0</td>\n",
              "      <td>A jury holdout attempts to prevent a miscarria...</td>\n",
              "      <td>96.0</td>\n",
              "      <td>Sidney Lumet</td>\n",
              "      <td>Henry Fonda</td>\n",
              "      <td>Lee J. Cobb</td>\n",
              "      <td>Martin Balsam</td>\n",
              "      <td>John Fiedler</td>\n",
              "      <td>689845</td>\n",
              "      <td>4,360,000</td>\n",
              "    </tr>\n",
              "  </tbody>\n",
              "</table>\n",
              "</div>\n",
              "    <div class=\"colab-df-buttons\">\n",
              "\n",
              "  <div class=\"colab-df-container\">\n",
              "    <button class=\"colab-df-convert\" onclick=\"convertToInteractive('df-be09def4-574a-4369-a719-8d0af689499b')\"\n",
              "            title=\"Convert this dataframe to an interactive table.\"\n",
              "            style=\"display:none;\">\n",
              "\n",
              "  <svg xmlns=\"http://www.w3.org/2000/svg\" height=\"24px\" viewBox=\"0 -960 960 960\">\n",
              "    <path d=\"M120-120v-720h720v720H120Zm60-500h600v-160H180v160Zm220 220h160v-160H400v160Zm0 220h160v-160H400v160ZM180-400h160v-160H180v160Zm440 0h160v-160H620v160ZM180-180h160v-160H180v160Zm440 0h160v-160H620v160Z\"/>\n",
              "  </svg>\n",
              "    </button>\n",
              "\n",
              "  <style>\n",
              "    .colab-df-container {\n",
              "      display:flex;\n",
              "      gap: 12px;\n",
              "    }\n",
              "\n",
              "    .colab-df-convert {\n",
              "      background-color: #E8F0FE;\n",
              "      border: none;\n",
              "      border-radius: 50%;\n",
              "      cursor: pointer;\n",
              "      display: none;\n",
              "      fill: #1967D2;\n",
              "      height: 32px;\n",
              "      padding: 0 0 0 0;\n",
              "      width: 32px;\n",
              "    }\n",
              "\n",
              "    .colab-df-convert:hover {\n",
              "      background-color: #E2EBFA;\n",
              "      box-shadow: 0px 1px 2px rgba(60, 64, 67, 0.3), 0px 1px 3px 1px rgba(60, 64, 67, 0.15);\n",
              "      fill: #174EA6;\n",
              "    }\n",
              "\n",
              "    .colab-df-buttons div {\n",
              "      margin-bottom: 4px;\n",
              "    }\n",
              "\n",
              "    [theme=dark] .colab-df-convert {\n",
              "      background-color: #3B4455;\n",
              "      fill: #D2E3FC;\n",
              "    }\n",
              "\n",
              "    [theme=dark] .colab-df-convert:hover {\n",
              "      background-color: #434B5C;\n",
              "      box-shadow: 0px 1px 3px 1px rgba(0, 0, 0, 0.15);\n",
              "      filter: drop-shadow(0px 1px 2px rgba(0, 0, 0, 0.3));\n",
              "      fill: #FFFFFF;\n",
              "    }\n",
              "  </style>\n",
              "\n",
              "    <script>\n",
              "      const buttonEl =\n",
              "        document.querySelector('#df-be09def4-574a-4369-a719-8d0af689499b button.colab-df-convert');\n",
              "      buttonEl.style.display =\n",
              "        google.colab.kernel.accessAllowed ? 'block' : 'none';\n",
              "\n",
              "      async function convertToInteractive(key) {\n",
              "        const element = document.querySelector('#df-be09def4-574a-4369-a719-8d0af689499b');\n",
              "        const dataTable =\n",
              "          await google.colab.kernel.invokeFunction('convertToInteractive',\n",
              "                                                    [key], {});\n",
              "        if (!dataTable) return;\n",
              "\n",
              "        const docLinkHtml = 'Like what you see? Visit the ' +\n",
              "          '<a target=\"_blank\" href=https://colab.research.google.com/notebooks/data_table.ipynb>data table notebook</a>'\n",
              "          + ' to learn more about interactive tables.';\n",
              "        element.innerHTML = '';\n",
              "        dataTable['output_type'] = 'display_data';\n",
              "        await google.colab.output.renderOutput(dataTable, element);\n",
              "        const docLink = document.createElement('div');\n",
              "        docLink.innerHTML = docLinkHtml;\n",
              "        element.appendChild(docLink);\n",
              "      }\n",
              "    </script>\n",
              "  </div>\n",
              "\n",
              "\n",
              "<div id=\"df-2e1ad147-8b66-4063-9fa6-4c46c68198b4\">\n",
              "  <button class=\"colab-df-quickchart\" onclick=\"quickchart('df-2e1ad147-8b66-4063-9fa6-4c46c68198b4')\"\n",
              "            title=\"Suggest charts\"\n",
              "            style=\"display:none;\">\n",
              "\n",
              "<svg xmlns=\"http://www.w3.org/2000/svg\" height=\"24px\"viewBox=\"0 0 24 24\"\n",
              "     width=\"24px\">\n",
              "    <g>\n",
              "        <path d=\"M19 3H5c-1.1 0-2 .9-2 2v14c0 1.1.9 2 2 2h14c1.1 0 2-.9 2-2V5c0-1.1-.9-2-2-2zM9 17H7v-7h2v7zm4 0h-2V7h2v10zm4 0h-2v-4h2v4z\"/>\n",
              "    </g>\n",
              "</svg>\n",
              "  </button>\n",
              "\n",
              "<style>\n",
              "  .colab-df-quickchart {\n",
              "      --bg-color: #E8F0FE;\n",
              "      --fill-color: #1967D2;\n",
              "      --hover-bg-color: #E2EBFA;\n",
              "      --hover-fill-color: #174EA6;\n",
              "      --disabled-fill-color: #AAA;\n",
              "      --disabled-bg-color: #DDD;\n",
              "  }\n",
              "\n",
              "  [theme=dark] .colab-df-quickchart {\n",
              "      --bg-color: #3B4455;\n",
              "      --fill-color: #D2E3FC;\n",
              "      --hover-bg-color: #434B5C;\n",
              "      --hover-fill-color: #FFFFFF;\n",
              "      --disabled-bg-color: #3B4455;\n",
              "      --disabled-fill-color: #666;\n",
              "  }\n",
              "\n",
              "  .colab-df-quickchart {\n",
              "    background-color: var(--bg-color);\n",
              "    border: none;\n",
              "    border-radius: 50%;\n",
              "    cursor: pointer;\n",
              "    display: none;\n",
              "    fill: var(--fill-color);\n",
              "    height: 32px;\n",
              "    padding: 0;\n",
              "    width: 32px;\n",
              "  }\n",
              "\n",
              "  .colab-df-quickchart:hover {\n",
              "    background-color: var(--hover-bg-color);\n",
              "    box-shadow: 0 1px 2px rgba(60, 64, 67, 0.3), 0 1px 3px 1px rgba(60, 64, 67, 0.15);\n",
              "    fill: var(--button-hover-fill-color);\n",
              "  }\n",
              "\n",
              "  .colab-df-quickchart-complete:disabled,\n",
              "  .colab-df-quickchart-complete:disabled:hover {\n",
              "    background-color: var(--disabled-bg-color);\n",
              "    fill: var(--disabled-fill-color);\n",
              "    box-shadow: none;\n",
              "  }\n",
              "\n",
              "  .colab-df-spinner {\n",
              "    border: 2px solid var(--fill-color);\n",
              "    border-color: transparent;\n",
              "    border-bottom-color: var(--fill-color);\n",
              "    animation:\n",
              "      spin 1s steps(1) infinite;\n",
              "  }\n",
              "\n",
              "  @keyframes spin {\n",
              "    0% {\n",
              "      border-color: transparent;\n",
              "      border-bottom-color: var(--fill-color);\n",
              "      border-left-color: var(--fill-color);\n",
              "    }\n",
              "    20% {\n",
              "      border-color: transparent;\n",
              "      border-left-color: var(--fill-color);\n",
              "      border-top-color: var(--fill-color);\n",
              "    }\n",
              "    30% {\n",
              "      border-color: transparent;\n",
              "      border-left-color: var(--fill-color);\n",
              "      border-top-color: var(--fill-color);\n",
              "      border-right-color: var(--fill-color);\n",
              "    }\n",
              "    40% {\n",
              "      border-color: transparent;\n",
              "      border-right-color: var(--fill-color);\n",
              "      border-top-color: var(--fill-color);\n",
              "    }\n",
              "    60% {\n",
              "      border-color: transparent;\n",
              "      border-right-color: var(--fill-color);\n",
              "    }\n",
              "    80% {\n",
              "      border-color: transparent;\n",
              "      border-right-color: var(--fill-color);\n",
              "      border-bottom-color: var(--fill-color);\n",
              "    }\n",
              "    90% {\n",
              "      border-color: transparent;\n",
              "      border-bottom-color: var(--fill-color);\n",
              "    }\n",
              "  }\n",
              "</style>\n",
              "\n",
              "  <script>\n",
              "    async function quickchart(key) {\n",
              "      const quickchartButtonEl =\n",
              "        document.querySelector('#' + key + ' button');\n",
              "      quickchartButtonEl.disabled = true;  // To prevent multiple clicks.\n",
              "      quickchartButtonEl.classList.add('colab-df-spinner');\n",
              "      try {\n",
              "        const charts = await google.colab.kernel.invokeFunction(\n",
              "            'suggestCharts', [key], {});\n",
              "      } catch (error) {\n",
              "        console.error('Error during call to suggestCharts:', error);\n",
              "      }\n",
              "      quickchartButtonEl.classList.remove('colab-df-spinner');\n",
              "      quickchartButtonEl.classList.add('colab-df-quickchart-complete');\n",
              "    }\n",
              "    (() => {\n",
              "      let quickchartButtonEl =\n",
              "        document.querySelector('#df-2e1ad147-8b66-4063-9fa6-4c46c68198b4 button');\n",
              "      quickchartButtonEl.style.display =\n",
              "        google.colab.kernel.accessAllowed ? 'block' : 'none';\n",
              "    })();\n",
              "  </script>\n",
              "</div>\n",
              "\n",
              "    </div>\n",
              "  </div>\n"
            ],
            "application/vnd.google.colaboratory.intrinsic+json": {
              "type": "dataframe",
              "variable_name": "df",
              "summary": "{\n  \"name\": \"df\",\n  \"rows\": 1000,\n  \"fields\": [\n    {\n      \"column\": \"Poster_Link\",\n      \"properties\": {\n        \"dtype\": \"string\",\n        \"num_unique_values\": 1000,\n        \"samples\": [\n          \"https://m.media-amazon.com/images/M/MV5BMjg5OGU4OGYtNTZmNy00MjQ1LWIzYzgtMTllMGY2NzlkNzYwXkEyXkFqcGdeQXVyMTI3ODAyMzE2._V1_UY98_CR2,0,67,98_AL_.jpg\",\n          \"https://m.media-amazon.com/images/M/MV5BMzA2NDkwODAwM15BMl5BanBnXkFtZTgwODk5MTgzMTE@._V1_UY98_CR0,0,67,98_AL_.jpg\",\n          \"https://m.media-amazon.com/images/M/MV5BNzMxNTExOTkyMF5BMl5BanBnXkFtZTcwMzEyNDc0OA@@._V1_UX67_CR0,0,67,98_AL_.jpg\"\n        ],\n        \"semantic_type\": \"\",\n        \"description\": \"\"\n      }\n    },\n    {\n      \"column\": \"Series_Title\",\n      \"properties\": {\n        \"dtype\": \"string\",\n        \"num_unique_values\": 999,\n        \"samples\": [\n          \"The Best Years of Our Lives\",\n          \"Hedwig and the Angry Inch\",\n          \"Gone Girl\"\n        ],\n        \"semantic_type\": \"\",\n        \"description\": \"\"\n      }\n    },\n    {\n      \"column\": \"Released_Year\",\n      \"properties\": {\n        \"dtype\": \"category\",\n        \"num_unique_values\": 100,\n        \"samples\": [\n          \"1934\",\n          \"1992\",\n          \"1989\"\n        ],\n        \"semantic_type\": \"\",\n        \"description\": \"\"\n      }\n    },\n    {\n      \"column\": \"Certificate\",\n      \"properties\": {\n        \"dtype\": \"category\",\n        \"num_unique_values\": 16,\n        \"samples\": [\n          \"A\",\n          \"UA\",\n          \"PG\"\n        ],\n        \"semantic_type\": \"\",\n        \"description\": \"\"\n      }\n    },\n    {\n      \"column\": \"Runtime\",\n      \"properties\": {\n        \"dtype\": \"category\",\n        \"num_unique_values\": 140,\n        \"samples\": [\n          \"205 min\",\n          \"129 min\",\n          \"112 min\"\n        ],\n        \"semantic_type\": \"\",\n        \"description\": \"\"\n      }\n    },\n    {\n      \"column\": \"Genre\",\n      \"properties\": {\n        \"dtype\": \"category\",\n        \"num_unique_values\": 202,\n        \"samples\": [\n          \"Comedy, Drama, Fantasy\",\n          \"Crime, Drama, Fantasy\",\n          \"Drama, Romance, War\"\n        ],\n        \"semantic_type\": \"\",\n        \"description\": \"\"\n      }\n    },\n    {\n      \"column\": \"IMDB_Rating\",\n      \"properties\": {\n        \"dtype\": \"number\",\n        \"std\": 0.2754912074920095,\n        \"min\": 7.6,\n        \"max\": 9.3,\n        \"num_unique_values\": 17,\n        \"samples\": [\n          9.3,\n          9.2,\n          8.7\n        ],\n        \"semantic_type\": \"\",\n        \"description\": \"\"\n      }\n    },\n    {\n      \"column\": \"Overview\",\n      \"properties\": {\n        \"dtype\": \"string\",\n        \"num_unique_values\": 1000,\n        \"samples\": [\n          \"A woman struggles to find a way to live her life after the death of her husband and child.\",\n          \"As Steve Rogers struggles to embrace his role in the modern world, he teams up with a fellow Avenger and S.H.I.E.L.D agent, Black Widow, to battle a new threat from history: an assassin known as the Winter Soldier.\",\n          \"A video game villain wants to be a hero and sets out to fulfill his dream, but his quest brings havoc to the whole arcade where he lives.\"\n        ],\n        \"semantic_type\": \"\",\n        \"description\": \"\"\n      }\n    },\n    {\n      \"column\": \"Meta_score\",\n      \"properties\": {\n        \"dtype\": \"number\",\n        \"std\": 12.376099328602027,\n        \"min\": 28.0,\n        \"max\": 100.0,\n        \"num_unique_values\": 63,\n        \"samples\": [\n          30.0,\n          52.0,\n          80.0\n        ],\n        \"semantic_type\": \"\",\n        \"description\": \"\"\n      }\n    },\n    {\n      \"column\": \"Director\",\n      \"properties\": {\n        \"dtype\": \"string\",\n        \"num_unique_values\": 548,\n        \"samples\": [\n          \"Satoshi Kon\",\n          \"David Lean\",\n          \"Yilmaz Erdogan\"\n        ],\n        \"semantic_type\": \"\",\n        \"description\": \"\"\n      }\n    },\n    {\n      \"column\": \"Star1\",\n      \"properties\": {\n        \"dtype\": \"string\",\n        \"num_unique_values\": 660,\n        \"samples\": [\n          \"Peter Dinklage\",\n          \"Josh O'Connor\",\n          \"Terry Jones\"\n        ],\n        \"semantic_type\": \"\",\n        \"description\": \"\"\n      }\n    },\n    {\n      \"column\": \"Star2\",\n      \"properties\": {\n        \"dtype\": \"string\",\n        \"num_unique_values\": 841,\n        \"samples\": [\n          \"Ruy Guerra\",\n          \"Meg Ryan\",\n          \"Donna Reed\"\n        ],\n        \"semantic_type\": \"\",\n        \"description\": \"\"\n      }\n    },\n    {\n      \"column\": \"Star3\",\n      \"properties\": {\n        \"dtype\": \"string\",\n        \"num_unique_values\": 891,\n        \"samples\": [\n          \"Giovanni Ribisi\",\n          \"Julia Greer\",\n          \"Naomi Watts\"\n        ],\n        \"semantic_type\": \"\",\n        \"description\": \"\"\n      }\n    },\n    {\n      \"column\": \"Star4\",\n      \"properties\": {\n        \"dtype\": \"string\",\n        \"num_unique_values\": 939,\n        \"samples\": [\n          \"Trevor Howard\",\n          \"Ulrich Tukur\",\n          \"Hemendra Dandotiya\"\n        ],\n        \"semantic_type\": \"\",\n        \"description\": \"\"\n      }\n    },\n    {\n      \"column\": \"No_of_Votes\",\n      \"properties\": {\n        \"dtype\": \"number\",\n        \"std\": 327372,\n        \"min\": 25088,\n        \"max\": 2343110,\n        \"num_unique_values\": 999,\n        \"samples\": [\n          42725,\n          31957,\n          707630\n        ],\n        \"semantic_type\": \"\",\n        \"description\": \"\"\n      }\n    },\n    {\n      \"column\": \"Gross\",\n      \"properties\": {\n        \"dtype\": \"string\",\n        \"num_unique_values\": 823,\n        \"samples\": [\n          \"132,092,958\",\n          \"67,209,615\",\n          \"78,900,000\"\n        ],\n        \"semantic_type\": \"\",\n        \"description\": \"\"\n      }\n    }\n  ]\n}"
            }
          },
          "metadata": {},
          "execution_count": 7
        }
      ]
    },
    {
      "cell_type": "code",
      "source": [
        "categorize_system_prompt = '''\n",
        "Your goal is to extract movie categories from movie descriptions, as well as a 1-sentence summary for these movies.\n",
        "You will be provided with a movie description, and you will output a json object containing the following information:\n",
        "\n",
        "{\n",
        "    categories: string[] // Array of categories based on the movie description,\n",
        "    summary: string // 1-sentence summary of the movie based on the movie description\n",
        "}\n",
        "\n",
        "Categories refer to the genre or type of the movie, like \"action\", \"romance\", \"comedy\", etc. Keep category names simple and use only lower case letters.\n",
        "Movies can have several categories, but try to keep it under 3-4. Only mention the categories that are the most obvious based on the description.\n",
        "'''\n",
        "\n",
        "def get_categories(description):\n",
        "    response = client.chat.completions.create(\n",
        "    model=\"gpt-3.5-turbo\",\n",
        "    temperature=0.1,\n",
        "    # This is to enable JSON mode, making sure responses are valid json objects\n",
        "    response_format={\n",
        "        \"type\": \"json_object\"\n",
        "    },\n",
        "    messages=[\n",
        "        {\n",
        "            \"role\": \"system\",\n",
        "            \"content\": categorize_system_prompt\n",
        "        },\n",
        "        {\n",
        "            \"role\": \"user\",\n",
        "            \"content\": description\n",
        "        }\n",
        "    ],\n",
        "    )\n",
        "\n",
        "    return response.choices[0].message.content"
      ],
      "metadata": {
        "id": "GCbRHBOj_zib"
      },
      "execution_count": 8,
      "outputs": []
    },
    {
      "cell_type": "code",
      "source": [
        "# Testing on a few examples\n",
        "for _, row in df[:5].iterrows():\n",
        "    description = row['Overview']\n",
        "    title = row['Series_Title']\n",
        "    result = get_categories(description)\n",
        "    print(f\"TITLE: {title}\\nOVERVIEW: {description}\\n\\nRESULT: {result}\")\n",
        "    print(\"\\n\\n----------------------------\\n\\n\")"
      ],
      "metadata": {
        "colab": {
          "base_uri": "https://localhost:8080/"
        },
        "id": "TyEthiGq_C67",
        "outputId": "c707c063-628d-4d23-b60d-e6143969bbcb"
      },
      "execution_count": 9,
      "outputs": [
        {
          "output_type": "stream",
          "name": "stdout",
          "text": [
            "TITLE: The Shawshank Redemption\n",
            "OVERVIEW: Two imprisoned men bond over a number of years, finding solace and eventual redemption through acts of common decency.\n",
            "\n",
            "RESULT: {\n",
            "    \"categories\": [\"drama\"],\n",
            "    \"summary\": \"Two imprisoned men bond over the years and find redemption through acts of common decency.\"\n",
            "}\n",
            "\n",
            "\n",
            "----------------------------\n",
            "\n",
            "\n",
            "TITLE: The Godfather\n",
            "OVERVIEW: An organized crime dynasty's aging patriarch transfers control of his clandestine empire to his reluctant son.\n",
            "\n",
            "RESULT: {\n",
            "    \"categories\": [\"crime\", \"drama\"],\n",
            "    \"summary\": \"A crime drama about an aging patriarch passing on his empire to his son.\"\n",
            "}\n",
            "\n",
            "\n",
            "----------------------------\n",
            "\n",
            "\n",
            "TITLE: The Dark Knight\n",
            "OVERVIEW: When the menace known as the Joker wreaks havoc and chaos on the people of Gotham, Batman must accept one of the greatest psychological and physical tests of his ability to fight injustice.\n",
            "\n",
            "RESULT: {\n",
            "    \"categories\": [\"action\", \"crime\", \"drama\"],\n",
            "    \"summary\": \"Batman faces a psychological and physical test as he battles the chaos caused by the Joker in Gotham.\"\n",
            "}\n",
            "\n",
            "\n",
            "----------------------------\n",
            "\n",
            "\n",
            "TITLE: The Godfather: Part II\n",
            "OVERVIEW: The early life and career of Vito Corleone in 1920s New York City is portrayed, while his son, Michael, expands and tightens his grip on the family crime syndicate.\n",
            "\n",
            "RESULT: {\n",
            "    \"categories\": [\"crime\", \"drama\"],\n",
            "    \"summary\": \"A gripping portrayal of the early life and career of Vito Corleone in 1920s New York City, intertwined with his son Michael's rise to power in the family crime syndicate.\"\n",
            "}\n",
            "\n",
            "\n",
            "----------------------------\n",
            "\n",
            "\n",
            "TITLE: 12 Angry Men\n",
            "OVERVIEW: A jury holdout attempts to prevent a miscarriage of justice by forcing his colleagues to reconsider the evidence.\n",
            "\n",
            "RESULT: {\n",
            "    \"categories\": [\"drama\"],\n",
            "    \"summary\": \"A gripping drama about a jury holdout fighting for justice by challenging his colleagues to reevaluate the evidence.\"\n",
            "}\n",
            "\n",
            "\n",
            "----------------------------\n",
            "\n",
            "\n"
          ]
        }
      ]
    },
    {
      "cell_type": "code",
      "source": [
        "# Creating an array of json tasks\n",
        "\n",
        "tasks = []\n",
        "\n",
        "for index, row in df.iterrows():\n",
        "\n",
        "    description = row['Overview']\n",
        "\n",
        "    task = {\n",
        "        \"custom_id\": f\"task-{index}\",\n",
        "        \"method\": \"POST\",\n",
        "        \"url\": \"/v1/chat/completions\",\n",
        "        \"body\": {\n",
        "            # This is what you would have in your Chat Completions API call\n",
        "            \"model\": \"gpt-3.5-turbo\",\n",
        "            \"temperature\": 0.1,\n",
        "            \"response_format\": {\n",
        "                \"type\": \"json_object\"\n",
        "            },\n",
        "            \"messages\": [\n",
        "                {\n",
        "                    \"role\": \"system\",\n",
        "                    \"content\": categorize_system_prompt\n",
        "                },\n",
        "                {\n",
        "                    \"role\": \"user\",\n",
        "                    \"content\": description\n",
        "                }\n",
        "            ],\n",
        "        }\n",
        "    }\n",
        "\n",
        "    tasks.append(task)"
      ],
      "metadata": {
        "id": "44NQesXYAKD3"
      },
      "execution_count": 10,
      "outputs": []
    },
    {
      "cell_type": "code",
      "source": [
        "# Creating the file\n",
        "\n",
        "file_name = \"batch_tasks_movies.jsonl\"\n",
        "\n",
        "with open(file_name, 'w') as file:\n",
        "    for obj in tasks:\n",
        "        file.write(json.dumps(obj) + '\\n')"
      ],
      "metadata": {
        "id": "TaUm-de9AMdZ"
      },
      "execution_count": 11,
      "outputs": []
    },
    {
      "cell_type": "code",
      "source": [
        "batch_file = client.files.create(\n",
        "  file=open(file_name, \"rb\"),\n",
        "  purpose=\"batch\"\n",
        ")"
      ],
      "metadata": {
        "id": "P19EFU94AQE5"
      },
      "execution_count": 12,
      "outputs": []
    },
    {
      "cell_type": "code",
      "source": [
        "print(batch_file)"
      ],
      "metadata": {
        "colab": {
          "base_uri": "https://localhost:8080/"
        },
        "id": "B9Z9kVmmAQoL",
        "outputId": "e586ac23-242f-4fbc-cca5-885579b8ffab"
      },
      "execution_count": 13,
      "outputs": [
        {
          "output_type": "stream",
          "name": "stdout",
          "text": [
            "FileObject(id='file-hCCNVHI2ZRw7I5tenVaczDVH', bytes=1127310, created_at=1720033807, filename='batch_tasks_movies.jsonl', object='file', purpose='batch', status='processed', status_details=None)\n"
          ]
        }
      ]
    },
    {
      "cell_type": "code",
      "source": [
        "batch_job = client.batches.create(\n",
        "  input_file_id=batch_file.id,\n",
        "  endpoint=\"/v1/chat/completions\",\n",
        "  completion_window=\"24h\"\n",
        ")"
      ],
      "metadata": {
        "id": "FeB4EjJrAd9S"
      },
      "execution_count": 14,
      "outputs": []
    },
    {
      "cell_type": "code",
      "source": [
        "batch_job = client.batches.retrieve(batch_job.id)\n",
        "print(batch_job)"
      ],
      "metadata": {
        "colab": {
          "base_uri": "https://localhost:8080/"
        },
        "id": "-HCVNDUkAeYH",
        "outputId": "74586a6f-4882-459a-f545-052f3d69f391"
      },
      "execution_count": 17,
      "outputs": [
        {
          "output_type": "stream",
          "name": "stdout",
          "text": [
            "Batch(id='batch_VdIl3yEHpkSTwVM6jPIcskjx', completion_window='24h', created_at=1720033864, endpoint='/v1/chat/completions', input_file_id='file-hCCNVHI2ZRw7I5tenVaczDVH', object='batch', status='in_progress', cancelled_at=None, cancelling_at=None, completed_at=None, error_file_id=None, errors=None, expired_at=None, expires_at=1720120264, failed_at=None, finalizing_at=None, in_progress_at=1720033865, metadata=None, output_file_id=None, request_counts=BatchRequestCounts(completed=232, failed=0, total=1000))\n"
          ]
        }
      ]
    },
    {
      "cell_type": "code",
      "source": [
        "import time\n",
        "\n",
        "while True:\n",
        "    batch_job = client.batches.retrieve(batch_job.id)\n",
        "    print(batch_job)\n",
        "    if batch_job.status == 'completed':\n",
        "        break\n",
        "    time.sleep(10)  # Wait for 10 seconds before checking again"
      ],
      "metadata": {
        "colab": {
          "base_uri": "https://localhost:8080/"
        },
        "id": "ycTd1YXhA33c",
        "outputId": "390448cf-9b2f-4333-d7b3-88662c9e065c"
      },
      "execution_count": 18,
      "outputs": [
        {
          "output_type": "stream",
          "name": "stdout",
          "text": [
            "Batch(id='batch_VdIl3yEHpkSTwVM6jPIcskjx', completion_window='24h', created_at=1720033864, endpoint='/v1/chat/completions', input_file_id='file-hCCNVHI2ZRw7I5tenVaczDVH', object='batch', status='in_progress', cancelled_at=None, cancelling_at=None, completed_at=None, error_file_id=None, errors=None, expired_at=None, expires_at=1720120264, failed_at=None, finalizing_at=None, in_progress_at=1720033865, metadata=None, output_file_id=None, request_counts=BatchRequestCounts(completed=975, failed=0, total=1000))\n",
            "Batch(id='batch_VdIl3yEHpkSTwVM6jPIcskjx', completion_window='24h', created_at=1720033864, endpoint='/v1/chat/completions', input_file_id='file-hCCNVHI2ZRw7I5tenVaczDVH', object='batch', status='in_progress', cancelled_at=None, cancelling_at=None, completed_at=None, error_file_id=None, errors=None, expired_at=None, expires_at=1720120264, failed_at=None, finalizing_at=None, in_progress_at=1720033865, metadata=None, output_file_id=None, request_counts=BatchRequestCounts(completed=981, failed=0, total=1000))\n",
            "Batch(id='batch_VdIl3yEHpkSTwVM6jPIcskjx', completion_window='24h', created_at=1720033864, endpoint='/v1/chat/completions', input_file_id='file-hCCNVHI2ZRw7I5tenVaczDVH', object='batch', status='in_progress', cancelled_at=None, cancelling_at=None, completed_at=None, error_file_id=None, errors=None, expired_at=None, expires_at=1720120264, failed_at=None, finalizing_at=None, in_progress_at=1720033865, metadata=None, output_file_id=None, request_counts=BatchRequestCounts(completed=981, failed=0, total=1000))\n",
            "Batch(id='batch_VdIl3yEHpkSTwVM6jPIcskjx', completion_window='24h', created_at=1720033864, endpoint='/v1/chat/completions', input_file_id='file-hCCNVHI2ZRw7I5tenVaczDVH', object='batch', status='in_progress', cancelled_at=None, cancelling_at=None, completed_at=None, error_file_id=None, errors=None, expired_at=None, expires_at=1720120264, failed_at=None, finalizing_at=None, in_progress_at=1720033865, metadata=None, output_file_id=None, request_counts=BatchRequestCounts(completed=984, failed=0, total=1000))\n",
            "Batch(id='batch_VdIl3yEHpkSTwVM6jPIcskjx', completion_window='24h', created_at=1720033864, endpoint='/v1/chat/completions', input_file_id='file-hCCNVHI2ZRw7I5tenVaczDVH', object='batch', status='in_progress', cancelled_at=None, cancelling_at=None, completed_at=None, error_file_id=None, errors=None, expired_at=None, expires_at=1720120264, failed_at=None, finalizing_at=None, in_progress_at=1720033865, metadata=None, output_file_id=None, request_counts=BatchRequestCounts(completed=984, failed=0, total=1000))\n",
            "Batch(id='batch_VdIl3yEHpkSTwVM6jPIcskjx', completion_window='24h', created_at=1720033864, endpoint='/v1/chat/completions', input_file_id='file-hCCNVHI2ZRw7I5tenVaczDVH', object='batch', status='in_progress', cancelled_at=None, cancelling_at=None, completed_at=None, error_file_id=None, errors=None, expired_at=None, expires_at=1720120264, failed_at=None, finalizing_at=None, in_progress_at=1720033865, metadata=None, output_file_id=None, request_counts=BatchRequestCounts(completed=986, failed=0, total=1000))\n",
            "Batch(id='batch_VdIl3yEHpkSTwVM6jPIcskjx', completion_window='24h', created_at=1720033864, endpoint='/v1/chat/completions', input_file_id='file-hCCNVHI2ZRw7I5tenVaczDVH', object='batch', status='in_progress', cancelled_at=None, cancelling_at=None, completed_at=None, error_file_id=None, errors=None, expired_at=None, expires_at=1720120264, failed_at=None, finalizing_at=None, in_progress_at=1720033865, metadata=None, output_file_id=None, request_counts=BatchRequestCounts(completed=986, failed=0, total=1000))\n",
            "Batch(id='batch_VdIl3yEHpkSTwVM6jPIcskjx', completion_window='24h', created_at=1720033864, endpoint='/v1/chat/completions', input_file_id='file-hCCNVHI2ZRw7I5tenVaczDVH', object='batch', status='in_progress', cancelled_at=None, cancelling_at=None, completed_at=None, error_file_id=None, errors=None, expired_at=None, expires_at=1720120264, failed_at=None, finalizing_at=None, in_progress_at=1720033865, metadata=None, output_file_id=None, request_counts=BatchRequestCounts(completed=986, failed=0, total=1000))\n",
            "Batch(id='batch_VdIl3yEHpkSTwVM6jPIcskjx', completion_window='24h', created_at=1720033864, endpoint='/v1/chat/completions', input_file_id='file-hCCNVHI2ZRw7I5tenVaczDVH', object='batch', status='in_progress', cancelled_at=None, cancelling_at=None, completed_at=None, error_file_id=None, errors=None, expired_at=None, expires_at=1720120264, failed_at=None, finalizing_at=None, in_progress_at=1720033865, metadata=None, output_file_id=None, request_counts=BatchRequestCounts(completed=986, failed=0, total=1000))\n",
            "Batch(id='batch_VdIl3yEHpkSTwVM6jPIcskjx', completion_window='24h', created_at=1720033864, endpoint='/v1/chat/completions', input_file_id='file-hCCNVHI2ZRw7I5tenVaczDVH', object='batch', status='in_progress', cancelled_at=None, cancelling_at=None, completed_at=None, error_file_id=None, errors=None, expired_at=None, expires_at=1720120264, failed_at=None, finalizing_at=None, in_progress_at=1720033865, metadata=None, output_file_id=None, request_counts=BatchRequestCounts(completed=986, failed=0, total=1000))\n",
            "Batch(id='batch_VdIl3yEHpkSTwVM6jPIcskjx', completion_window='24h', created_at=1720033864, endpoint='/v1/chat/completions', input_file_id='file-hCCNVHI2ZRw7I5tenVaczDVH', object='batch', status='in_progress', cancelled_at=None, cancelling_at=None, completed_at=None, error_file_id=None, errors=None, expired_at=None, expires_at=1720120264, failed_at=None, finalizing_at=None, in_progress_at=1720033865, metadata=None, output_file_id=None, request_counts=BatchRequestCounts(completed=986, failed=0, total=1000))\n",
            "Batch(id='batch_VdIl3yEHpkSTwVM6jPIcskjx', completion_window='24h', created_at=1720033864, endpoint='/v1/chat/completions', input_file_id='file-hCCNVHI2ZRw7I5tenVaczDVH', object='batch', status='in_progress', cancelled_at=None, cancelling_at=None, completed_at=None, error_file_id=None, errors=None, expired_at=None, expires_at=1720120264, failed_at=None, finalizing_at=None, in_progress_at=1720033865, metadata=None, output_file_id=None, request_counts=BatchRequestCounts(completed=986, failed=0, total=1000))\n",
            "Batch(id='batch_VdIl3yEHpkSTwVM6jPIcskjx', completion_window='24h', created_at=1720033864, endpoint='/v1/chat/completions', input_file_id='file-hCCNVHI2ZRw7I5tenVaczDVH', object='batch', status='in_progress', cancelled_at=None, cancelling_at=None, completed_at=None, error_file_id=None, errors=None, expired_at=None, expires_at=1720120264, failed_at=None, finalizing_at=None, in_progress_at=1720033865, metadata=None, output_file_id=None, request_counts=BatchRequestCounts(completed=986, failed=0, total=1000))\n",
            "Batch(id='batch_VdIl3yEHpkSTwVM6jPIcskjx', completion_window='24h', created_at=1720033864, endpoint='/v1/chat/completions', input_file_id='file-hCCNVHI2ZRw7I5tenVaczDVH', object='batch', status='in_progress', cancelled_at=None, cancelling_at=None, completed_at=None, error_file_id=None, errors=None, expired_at=None, expires_at=1720120264, failed_at=None, finalizing_at=None, in_progress_at=1720033865, metadata=None, output_file_id=None, request_counts=BatchRequestCounts(completed=986, failed=0, total=1000))\n",
            "Batch(id='batch_VdIl3yEHpkSTwVM6jPIcskjx', completion_window='24h', created_at=1720033864, endpoint='/v1/chat/completions', input_file_id='file-hCCNVHI2ZRw7I5tenVaczDVH', object='batch', status='in_progress', cancelled_at=None, cancelling_at=None, completed_at=None, error_file_id=None, errors=None, expired_at=None, expires_at=1720120264, failed_at=None, finalizing_at=None, in_progress_at=1720033865, metadata=None, output_file_id=None, request_counts=BatchRequestCounts(completed=986, failed=0, total=1000))\n",
            "Batch(id='batch_VdIl3yEHpkSTwVM6jPIcskjx', completion_window='24h', created_at=1720033864, endpoint='/v1/chat/completions', input_file_id='file-hCCNVHI2ZRw7I5tenVaczDVH', object='batch', status='in_progress', cancelled_at=None, cancelling_at=None, completed_at=None, error_file_id=None, errors=None, expired_at=None, expires_at=1720120264, failed_at=None, finalizing_at=None, in_progress_at=1720033865, metadata=None, output_file_id=None, request_counts=BatchRequestCounts(completed=986, failed=0, total=1000))\n",
            "Batch(id='batch_VdIl3yEHpkSTwVM6jPIcskjx', completion_window='24h', created_at=1720033864, endpoint='/v1/chat/completions', input_file_id='file-hCCNVHI2ZRw7I5tenVaczDVH', object='batch', status='in_progress', cancelled_at=None, cancelling_at=None, completed_at=None, error_file_id=None, errors=None, expired_at=None, expires_at=1720120264, failed_at=None, finalizing_at=None, in_progress_at=1720033865, metadata=None, output_file_id=None, request_counts=BatchRequestCounts(completed=986, failed=0, total=1000))\n",
            "Batch(id='batch_VdIl3yEHpkSTwVM6jPIcskjx', completion_window='24h', created_at=1720033864, endpoint='/v1/chat/completions', input_file_id='file-hCCNVHI2ZRw7I5tenVaczDVH', object='batch', status='in_progress', cancelled_at=None, cancelling_at=None, completed_at=None, error_file_id=None, errors=None, expired_at=None, expires_at=1720120264, failed_at=None, finalizing_at=None, in_progress_at=1720033865, metadata=None, output_file_id=None, request_counts=BatchRequestCounts(completed=986, failed=0, total=1000))\n",
            "Batch(id='batch_VdIl3yEHpkSTwVM6jPIcskjx', completion_window='24h', created_at=1720033864, endpoint='/v1/chat/completions', input_file_id='file-hCCNVHI2ZRw7I5tenVaczDVH', object='batch', status='in_progress', cancelled_at=None, cancelling_at=None, completed_at=None, error_file_id=None, errors=None, expired_at=None, expires_at=1720120264, failed_at=None, finalizing_at=None, in_progress_at=1720033865, metadata=None, output_file_id=None, request_counts=BatchRequestCounts(completed=986, failed=0, total=1000))\n",
            "Batch(id='batch_VdIl3yEHpkSTwVM6jPIcskjx', completion_window='24h', created_at=1720033864, endpoint='/v1/chat/completions', input_file_id='file-hCCNVHI2ZRw7I5tenVaczDVH', object='batch', status='in_progress', cancelled_at=None, cancelling_at=None, completed_at=None, error_file_id=None, errors=None, expired_at=None, expires_at=1720120264, failed_at=None, finalizing_at=None, in_progress_at=1720033865, metadata=None, output_file_id=None, request_counts=BatchRequestCounts(completed=986, failed=0, total=1000))\n",
            "Batch(id='batch_VdIl3yEHpkSTwVM6jPIcskjx', completion_window='24h', created_at=1720033864, endpoint='/v1/chat/completions', input_file_id='file-hCCNVHI2ZRw7I5tenVaczDVH', object='batch', status='in_progress', cancelled_at=None, cancelling_at=None, completed_at=None, error_file_id=None, errors=None, expired_at=None, expires_at=1720120264, failed_at=None, finalizing_at=None, in_progress_at=1720033865, metadata=None, output_file_id=None, request_counts=BatchRequestCounts(completed=986, failed=0, total=1000))\n",
            "Batch(id='batch_VdIl3yEHpkSTwVM6jPIcskjx', completion_window='24h', created_at=1720033864, endpoint='/v1/chat/completions', input_file_id='file-hCCNVHI2ZRw7I5tenVaczDVH', object='batch', status='in_progress', cancelled_at=None, cancelling_at=None, completed_at=None, error_file_id=None, errors=None, expired_at=None, expires_at=1720120264, failed_at=None, finalizing_at=None, in_progress_at=1720033865, metadata=None, output_file_id=None, request_counts=BatchRequestCounts(completed=995, failed=0, total=1000))\n",
            "Batch(id='batch_VdIl3yEHpkSTwVM6jPIcskjx', completion_window='24h', created_at=1720033864, endpoint='/v1/chat/completions', input_file_id='file-hCCNVHI2ZRw7I5tenVaczDVH', object='batch', status='in_progress', cancelled_at=None, cancelling_at=None, completed_at=None, error_file_id=None, errors=None, expired_at=None, expires_at=1720120264, failed_at=None, finalizing_at=None, in_progress_at=1720033865, metadata=None, output_file_id=None, request_counts=BatchRequestCounts(completed=995, failed=0, total=1000))\n",
            "Batch(id='batch_VdIl3yEHpkSTwVM6jPIcskjx', completion_window='24h', created_at=1720033864, endpoint='/v1/chat/completions', input_file_id='file-hCCNVHI2ZRw7I5tenVaczDVH', object='batch', status='in_progress', cancelled_at=None, cancelling_at=None, completed_at=None, error_file_id=None, errors=None, expired_at=None, expires_at=1720120264, failed_at=None, finalizing_at=None, in_progress_at=1720033865, metadata=None, output_file_id=None, request_counts=BatchRequestCounts(completed=995, failed=0, total=1000))\n",
            "Batch(id='batch_VdIl3yEHpkSTwVM6jPIcskjx', completion_window='24h', created_at=1720033864, endpoint='/v1/chat/completions', input_file_id='file-hCCNVHI2ZRw7I5tenVaczDVH', object='batch', status='in_progress', cancelled_at=None, cancelling_at=None, completed_at=None, error_file_id=None, errors=None, expired_at=None, expires_at=1720120264, failed_at=None, finalizing_at=None, in_progress_at=1720033865, metadata=None, output_file_id=None, request_counts=BatchRequestCounts(completed=995, failed=0, total=1000))\n",
            "Batch(id='batch_VdIl3yEHpkSTwVM6jPIcskjx', completion_window='24h', created_at=1720033864, endpoint='/v1/chat/completions', input_file_id='file-hCCNVHI2ZRw7I5tenVaczDVH', object='batch', status='in_progress', cancelled_at=None, cancelling_at=None, completed_at=None, error_file_id=None, errors=None, expired_at=None, expires_at=1720120264, failed_at=None, finalizing_at=None, in_progress_at=1720033865, metadata=None, output_file_id=None, request_counts=BatchRequestCounts(completed=995, failed=0, total=1000))\n",
            "Batch(id='batch_VdIl3yEHpkSTwVM6jPIcskjx', completion_window='24h', created_at=1720033864, endpoint='/v1/chat/completions', input_file_id='file-hCCNVHI2ZRw7I5tenVaczDVH', object='batch', status='in_progress', cancelled_at=None, cancelling_at=None, completed_at=None, error_file_id=None, errors=None, expired_at=None, expires_at=1720120264, failed_at=None, finalizing_at=None, in_progress_at=1720033865, metadata=None, output_file_id=None, request_counts=BatchRequestCounts(completed=995, failed=0, total=1000))\n",
            "Batch(id='batch_VdIl3yEHpkSTwVM6jPIcskjx', completion_window='24h', created_at=1720033864, endpoint='/v1/chat/completions', input_file_id='file-hCCNVHI2ZRw7I5tenVaczDVH', object='batch', status='in_progress', cancelled_at=None, cancelling_at=None, completed_at=None, error_file_id=None, errors=None, expired_at=None, expires_at=1720120264, failed_at=None, finalizing_at=None, in_progress_at=1720033865, metadata=None, output_file_id=None, request_counts=BatchRequestCounts(completed=995, failed=0, total=1000))\n",
            "Batch(id='batch_VdIl3yEHpkSTwVM6jPIcskjx', completion_window='24h', created_at=1720033864, endpoint='/v1/chat/completions', input_file_id='file-hCCNVHI2ZRw7I5tenVaczDVH', object='batch', status='in_progress', cancelled_at=None, cancelling_at=None, completed_at=None, error_file_id=None, errors=None, expired_at=None, expires_at=1720120264, failed_at=None, finalizing_at=None, in_progress_at=1720033865, metadata=None, output_file_id=None, request_counts=BatchRequestCounts(completed=995, failed=0, total=1000))\n",
            "Batch(id='batch_VdIl3yEHpkSTwVM6jPIcskjx', completion_window='24h', created_at=1720033864, endpoint='/v1/chat/completions', input_file_id='file-hCCNVHI2ZRw7I5tenVaczDVH', object='batch', status='in_progress', cancelled_at=None, cancelling_at=None, completed_at=None, error_file_id=None, errors=None, expired_at=None, expires_at=1720120264, failed_at=None, finalizing_at=None, in_progress_at=1720033865, metadata=None, output_file_id=None, request_counts=BatchRequestCounts(completed=995, failed=0, total=1000))\n",
            "Batch(id='batch_VdIl3yEHpkSTwVM6jPIcskjx', completion_window='24h', created_at=1720033864, endpoint='/v1/chat/completions', input_file_id='file-hCCNVHI2ZRw7I5tenVaczDVH', object='batch', status='in_progress', cancelled_at=None, cancelling_at=None, completed_at=None, error_file_id=None, errors=None, expired_at=None, expires_at=1720120264, failed_at=None, finalizing_at=None, in_progress_at=1720033865, metadata=None, output_file_id=None, request_counts=BatchRequestCounts(completed=995, failed=0, total=1000))\n",
            "Batch(id='batch_VdIl3yEHpkSTwVM6jPIcskjx', completion_window='24h', created_at=1720033864, endpoint='/v1/chat/completions', input_file_id='file-hCCNVHI2ZRw7I5tenVaczDVH', object='batch', status='in_progress', cancelled_at=None, cancelling_at=None, completed_at=None, error_file_id=None, errors=None, expired_at=None, expires_at=1720120264, failed_at=None, finalizing_at=None, in_progress_at=1720033865, metadata=None, output_file_id=None, request_counts=BatchRequestCounts(completed=995, failed=0, total=1000))\n",
            "Batch(id='batch_VdIl3yEHpkSTwVM6jPIcskjx', completion_window='24h', created_at=1720033864, endpoint='/v1/chat/completions', input_file_id='file-hCCNVHI2ZRw7I5tenVaczDVH', object='batch', status='in_progress', cancelled_at=None, cancelling_at=None, completed_at=None, error_file_id=None, errors=None, expired_at=None, expires_at=1720120264, failed_at=None, finalizing_at=None, in_progress_at=1720033865, metadata=None, output_file_id=None, request_counts=BatchRequestCounts(completed=996, failed=0, total=1000))\n",
            "Batch(id='batch_VdIl3yEHpkSTwVM6jPIcskjx', completion_window='24h', created_at=1720033864, endpoint='/v1/chat/completions', input_file_id='file-hCCNVHI2ZRw7I5tenVaczDVH', object='batch', status='in_progress', cancelled_at=None, cancelling_at=None, completed_at=None, error_file_id=None, errors=None, expired_at=None, expires_at=1720120264, failed_at=None, finalizing_at=None, in_progress_at=1720033865, metadata=None, output_file_id=None, request_counts=BatchRequestCounts(completed=996, failed=0, total=1000))\n",
            "Batch(id='batch_VdIl3yEHpkSTwVM6jPIcskjx', completion_window='24h', created_at=1720033864, endpoint='/v1/chat/completions', input_file_id='file-hCCNVHI2ZRw7I5tenVaczDVH', object='batch', status='in_progress', cancelled_at=None, cancelling_at=None, completed_at=None, error_file_id=None, errors=None, expired_at=None, expires_at=1720120264, failed_at=None, finalizing_at=None, in_progress_at=1720033865, metadata=None, output_file_id=None, request_counts=BatchRequestCounts(completed=996, failed=0, total=1000))\n",
            "Batch(id='batch_VdIl3yEHpkSTwVM6jPIcskjx', completion_window='24h', created_at=1720033864, endpoint='/v1/chat/completions', input_file_id='file-hCCNVHI2ZRw7I5tenVaczDVH', object='batch', status='in_progress', cancelled_at=None, cancelling_at=None, completed_at=None, error_file_id=None, errors=None, expired_at=None, expires_at=1720120264, failed_at=None, finalizing_at=None, in_progress_at=1720033865, metadata=None, output_file_id=None, request_counts=BatchRequestCounts(completed=996, failed=0, total=1000))\n",
            "Batch(id='batch_VdIl3yEHpkSTwVM6jPIcskjx', completion_window='24h', created_at=1720033864, endpoint='/v1/chat/completions', input_file_id='file-hCCNVHI2ZRw7I5tenVaczDVH', object='batch', status='in_progress', cancelled_at=None, cancelling_at=None, completed_at=None, error_file_id=None, errors=None, expired_at=None, expires_at=1720120264, failed_at=None, finalizing_at=None, in_progress_at=1720033865, metadata=None, output_file_id=None, request_counts=BatchRequestCounts(completed=996, failed=0, total=1000))\n",
            "Batch(id='batch_VdIl3yEHpkSTwVM6jPIcskjx', completion_window='24h', created_at=1720033864, endpoint='/v1/chat/completions', input_file_id='file-hCCNVHI2ZRw7I5tenVaczDVH', object='batch', status='in_progress', cancelled_at=None, cancelling_at=None, completed_at=None, error_file_id=None, errors=None, expired_at=None, expires_at=1720120264, failed_at=None, finalizing_at=None, in_progress_at=1720033865, metadata=None, output_file_id=None, request_counts=BatchRequestCounts(completed=996, failed=0, total=1000))\n",
            "Batch(id='batch_VdIl3yEHpkSTwVM6jPIcskjx', completion_window='24h', created_at=1720033864, endpoint='/v1/chat/completions', input_file_id='file-hCCNVHI2ZRw7I5tenVaczDVH', object='batch', status='in_progress', cancelled_at=None, cancelling_at=None, completed_at=None, error_file_id=None, errors=None, expired_at=None, expires_at=1720120264, failed_at=None, finalizing_at=None, in_progress_at=1720033865, metadata=None, output_file_id=None, request_counts=BatchRequestCounts(completed=996, failed=0, total=1000))\n",
            "Batch(id='batch_VdIl3yEHpkSTwVM6jPIcskjx', completion_window='24h', created_at=1720033864, endpoint='/v1/chat/completions', input_file_id='file-hCCNVHI2ZRw7I5tenVaczDVH', object='batch', status='in_progress', cancelled_at=None, cancelling_at=None, completed_at=None, error_file_id=None, errors=None, expired_at=None, expires_at=1720120264, failed_at=None, finalizing_at=None, in_progress_at=1720033865, metadata=None, output_file_id=None, request_counts=BatchRequestCounts(completed=996, failed=0, total=1000))\n",
            "Batch(id='batch_VdIl3yEHpkSTwVM6jPIcskjx', completion_window='24h', created_at=1720033864, endpoint='/v1/chat/completions', input_file_id='file-hCCNVHI2ZRw7I5tenVaczDVH', object='batch', status='in_progress', cancelled_at=None, cancelling_at=None, completed_at=None, error_file_id=None, errors=None, expired_at=None, expires_at=1720120264, failed_at=None, finalizing_at=None, in_progress_at=1720033865, metadata=None, output_file_id=None, request_counts=BatchRequestCounts(completed=996, failed=0, total=1000))\n",
            "Batch(id='batch_VdIl3yEHpkSTwVM6jPIcskjx', completion_window='24h', created_at=1720033864, endpoint='/v1/chat/completions', input_file_id='file-hCCNVHI2ZRw7I5tenVaczDVH', object='batch', status='in_progress', cancelled_at=None, cancelling_at=None, completed_at=None, error_file_id=None, errors=None, expired_at=None, expires_at=1720120264, failed_at=None, finalizing_at=None, in_progress_at=1720033865, metadata=None, output_file_id=None, request_counts=BatchRequestCounts(completed=996, failed=0, total=1000))\n",
            "Batch(id='batch_VdIl3yEHpkSTwVM6jPIcskjx', completion_window='24h', created_at=1720033864, endpoint='/v1/chat/completions', input_file_id='file-hCCNVHI2ZRw7I5tenVaczDVH', object='batch', status='in_progress', cancelled_at=None, cancelling_at=None, completed_at=None, error_file_id=None, errors=None, expired_at=None, expires_at=1720120264, failed_at=None, finalizing_at=None, in_progress_at=1720033865, metadata=None, output_file_id=None, request_counts=BatchRequestCounts(completed=996, failed=0, total=1000))\n",
            "Batch(id='batch_VdIl3yEHpkSTwVM6jPIcskjx', completion_window='24h', created_at=1720033864, endpoint='/v1/chat/completions', input_file_id='file-hCCNVHI2ZRw7I5tenVaczDVH', object='batch', status='in_progress', cancelled_at=None, cancelling_at=None, completed_at=None, error_file_id=None, errors=None, expired_at=None, expires_at=1720120264, failed_at=None, finalizing_at=None, in_progress_at=1720033865, metadata=None, output_file_id=None, request_counts=BatchRequestCounts(completed=996, failed=0, total=1000))\n",
            "Batch(id='batch_VdIl3yEHpkSTwVM6jPIcskjx', completion_window='24h', created_at=1720033864, endpoint='/v1/chat/completions', input_file_id='file-hCCNVHI2ZRw7I5tenVaczDVH', object='batch', status='in_progress', cancelled_at=None, cancelling_at=None, completed_at=None, error_file_id=None, errors=None, expired_at=None, expires_at=1720120264, failed_at=None, finalizing_at=None, in_progress_at=1720033865, metadata=None, output_file_id=None, request_counts=BatchRequestCounts(completed=996, failed=0, total=1000))\n",
            "Batch(id='batch_VdIl3yEHpkSTwVM6jPIcskjx', completion_window='24h', created_at=1720033864, endpoint='/v1/chat/completions', input_file_id='file-hCCNVHI2ZRw7I5tenVaczDVH', object='batch', status='in_progress', cancelled_at=None, cancelling_at=None, completed_at=None, error_file_id=None, errors=None, expired_at=None, expires_at=1720120264, failed_at=None, finalizing_at=None, in_progress_at=1720033865, metadata=None, output_file_id=None, request_counts=BatchRequestCounts(completed=996, failed=0, total=1000))\n",
            "Batch(id='batch_VdIl3yEHpkSTwVM6jPIcskjx', completion_window='24h', created_at=1720033864, endpoint='/v1/chat/completions', input_file_id='file-hCCNVHI2ZRw7I5tenVaczDVH', object='batch', status='in_progress', cancelled_at=None, cancelling_at=None, completed_at=None, error_file_id=None, errors=None, expired_at=None, expires_at=1720120264, failed_at=None, finalizing_at=None, in_progress_at=1720033865, metadata=None, output_file_id=None, request_counts=BatchRequestCounts(completed=996, failed=0, total=1000))\n",
            "Batch(id='batch_VdIl3yEHpkSTwVM6jPIcskjx', completion_window='24h', created_at=1720033864, endpoint='/v1/chat/completions', input_file_id='file-hCCNVHI2ZRw7I5tenVaczDVH', object='batch', status='finalizing', cancelled_at=None, cancelling_at=None, completed_at=None, error_file_id=None, errors=None, expired_at=None, expires_at=1720120264, failed_at=None, finalizing_at=1720034444, in_progress_at=1720033865, metadata=None, output_file_id=None, request_counts=BatchRequestCounts(completed=1000, failed=0, total=1000))\n",
            "Batch(id='batch_VdIl3yEHpkSTwVM6jPIcskjx', completion_window='24h', created_at=1720033864, endpoint='/v1/chat/completions', input_file_id='file-hCCNVHI2ZRw7I5tenVaczDVH', object='batch', status='finalizing', cancelled_at=None, cancelling_at=None, completed_at=None, error_file_id=None, errors=None, expired_at=None, expires_at=1720120264, failed_at=None, finalizing_at=1720034444, in_progress_at=1720033865, metadata=None, output_file_id=None, request_counts=BatchRequestCounts(completed=1000, failed=0, total=1000))\n",
            "Batch(id='batch_VdIl3yEHpkSTwVM6jPIcskjx', completion_window='24h', created_at=1720033864, endpoint='/v1/chat/completions', input_file_id='file-hCCNVHI2ZRw7I5tenVaczDVH', object='batch', status='finalizing', cancelled_at=None, cancelling_at=None, completed_at=None, error_file_id=None, errors=None, expired_at=None, expires_at=1720120264, failed_at=None, finalizing_at=1720034444, in_progress_at=1720033865, metadata=None, output_file_id=None, request_counts=BatchRequestCounts(completed=1000, failed=0, total=1000))\n",
            "Batch(id='batch_VdIl3yEHpkSTwVM6jPIcskjx', completion_window='24h', created_at=1720033864, endpoint='/v1/chat/completions', input_file_id='file-hCCNVHI2ZRw7I5tenVaczDVH', object='batch', status='finalizing', cancelled_at=None, cancelling_at=None, completed_at=None, error_file_id=None, errors=None, expired_at=None, expires_at=1720120264, failed_at=None, finalizing_at=1720034444, in_progress_at=1720033865, metadata=None, output_file_id=None, request_counts=BatchRequestCounts(completed=1000, failed=0, total=1000))\n",
            "Batch(id='batch_VdIl3yEHpkSTwVM6jPIcskjx', completion_window='24h', created_at=1720033864, endpoint='/v1/chat/completions', input_file_id='file-hCCNVHI2ZRw7I5tenVaczDVH', object='batch', status='completed', cancelled_at=None, cancelling_at=None, completed_at=1720034481, error_file_id=None, errors=None, expired_at=None, expires_at=1720120264, failed_at=None, finalizing_at=1720034444, in_progress_at=1720033865, metadata=None, output_file_id='file-gjaUExt2Zna8FO5FAnSxClHu', request_counts=BatchRequestCounts(completed=1000, failed=0, total=1000))\n"
          ]
        }
      ]
    },
    {
      "cell_type": "code",
      "source": [
        "result_file_id = batch_job.output_file_id\n",
        "result = client.files.content(result_file_id).content"
      ],
      "metadata": {
        "id": "1WHvPRoCIrQA"
      },
      "execution_count": 19,
      "outputs": []
    },
    {
      "cell_type": "code",
      "source": [
        "result_file_name = \"batch_job_results_movies.jsonl\"\n",
        "\n",
        "with open(result_file_name, 'wb') as file:\n",
        "    file.write(result)"
      ],
      "metadata": {
        "id": "GJVGQYPXIto4"
      },
      "execution_count": 20,
      "outputs": []
    },
    {
      "cell_type": "code",
      "source": [
        "# Loading data from saved file\n",
        "results = []\n",
        "with open(result_file_name, 'r') as file:\n",
        "    for line in file:\n",
        "        # Parsing the JSON string into a dict and appending to the list of results\n",
        "        json_object = json.loads(line.strip())\n",
        "        results.append(json_object)"
      ],
      "metadata": {
        "id": "91goqTZSIuUr"
      },
      "execution_count": 21,
      "outputs": []
    },
    {
      "cell_type": "code",
      "source": [
        "# Reading only the first results\n",
        "for res in results[:5]:\n",
        "    task_id = res['custom_id']\n",
        "    # Getting index from task id\n",
        "    index = task_id.split('-')[-1]\n",
        "    result = res['response']['body']['choices'][0]['message']['content']\n",
        "    movie = df.iloc[int(index)]\n",
        "    description = movie['Overview']\n",
        "    title = movie['Series_Title']\n",
        "    print(f\"TITLE: {title}\\nOVERVIEW: {description}\\n\\nRESULT: {result}\")\n",
        "    print(\"\\n\\n----------------------------\\n\\n\")"
      ],
      "metadata": {
        "colab": {
          "base_uri": "https://localhost:8080/"
        },
        "id": "MyEzCBaqJevX",
        "outputId": "8b3a65f3-23a6-4302-f395-4b476cfc7209"
      },
      "execution_count": 22,
      "outputs": [
        {
          "output_type": "stream",
          "name": "stdout",
          "text": [
            "TITLE: The Shawshank Redemption\n",
            "OVERVIEW: Two imprisoned men bond over a number of years, finding solace and eventual redemption through acts of common decency.\n",
            "\n",
            "RESULT: {\n",
            "    \"categories\": [\"drama\"],\n",
            "    \"summary\": \"Two imprisoned men bond over the years, finding solace and redemption through acts of decency.\"\n",
            "}\n",
            "\n",
            "\n",
            "----------------------------\n",
            "\n",
            "\n",
            "TITLE: The Godfather\n",
            "OVERVIEW: An organized crime dynasty's aging patriarch transfers control of his clandestine empire to his reluctant son.\n",
            "\n",
            "RESULT: {\n",
            "    \"categories\": [\"crime\", \"drama\"],\n",
            "    \"summary\": \"A crime drama about an aging patriarch passing on his empire to his son.\"\n",
            "}\n",
            "\n",
            "\n",
            "----------------------------\n",
            "\n",
            "\n",
            "TITLE: The Dark Knight\n",
            "OVERVIEW: When the menace known as the Joker wreaks havoc and chaos on the people of Gotham, Batman must accept one of the greatest psychological and physical tests of his ability to fight injustice.\n",
            "\n",
            "RESULT: {\n",
            "    \"categories\": [\"action\", \"crime\", \"drama\"],\n",
            "    \"summary\": \"A dark and thrilling action-packed movie where Batman faces his ultimate challenge against the Joker's chaos in Gotham.\"\n",
            "}\n",
            "\n",
            "\n",
            "----------------------------\n",
            "\n",
            "\n",
            "TITLE: The Godfather: Part II\n",
            "OVERVIEW: The early life and career of Vito Corleone in 1920s New York City is portrayed, while his son, Michael, expands and tightens his grip on the family crime syndicate.\n",
            "\n",
            "RESULT: {\n",
            "    \"categories\": [\"crime\", \"drama\"],\n",
            "    \"summary\": \"A portrayal of the early life and career of Vito Corleone in 1920s New York City, as his son Michael expands and tightens his grip on the family crime syndicate.\"\n",
            "}\n",
            "\n",
            "\n",
            "----------------------------\n",
            "\n",
            "\n",
            "TITLE: 12 Angry Men\n",
            "OVERVIEW: A jury holdout attempts to prevent a miscarriage of justice by forcing his colleagues to reconsider the evidence.\n",
            "\n",
            "RESULT: {\n",
            "    \"categories\": [\"drama\"],\n",
            "    \"summary\": \"A gripping drama about a jury holdout fighting for justice by challenging his colleagues to reevaluate the evidence.\"\n",
            "}\n",
            "\n",
            "\n",
            "----------------------------\n",
            "\n",
            "\n"
          ]
        }
      ]
    },
    {
      "cell_type": "code",
      "source": [
        "DATASET_URL = \"https://github.com/openai/openai-cookbook/raw/main/examples/data/amazon_furniture_dataset.csv\"\n",
        "response = requests.get(DATASET_URL)\n",
        "DATASET_PATH = \"amazon_furniture_dataset.csv\"\n",
        "with open(DATASET_PATH, 'wb') as file:\n",
        "    file.write(response.content)"
      ],
      "metadata": {
        "id": "KL0Gn_CDJv_1"
      },
      "execution_count": 23,
      "outputs": []
    },
    {
      "cell_type": "code",
      "source": [
        "dataset_path = \"amazon_furniture_dataset.csv\"\n",
        "df = pd.read_csv(dataset_path)\n",
        "df.head()"
      ],
      "metadata": {
        "colab": {
          "base_uri": "https://localhost:8080/",
          "height": 724
        },
        "id": "k3yQjvLvJrkV",
        "outputId": "9c539f82-6fdd-4f70-ec7b-68a5e0ff8ed8"
      },
      "execution_count": 24,
      "outputs": [
        {
          "output_type": "execute_result",
          "data": {
            "text/plain": [
              "         asin                                   url  \\\n",
              "0  B0CJHKVG6P  https://www.amazon.com/dp/B0CJHKVG6P   \n",
              "1  B0B66QHB23  https://www.amazon.com/dp/B0B66QHB23   \n",
              "2  B0BXRTWLYK  https://www.amazon.com/dp/B0BXRTWLYK   \n",
              "3  B0C1MRB2M8  https://www.amazon.com/dp/B0C1MRB2M8   \n",
              "4  B0CG1N9QRC  https://www.amazon.com/dp/B0CG1N9QRC   \n",
              "\n",
              "                                               title            brand   price  \\\n",
              "0  GOYMFK 1pc Free Standing Shoe Rack, Multi-laye...           GOYMFK  $24.99   \n",
              "1  subrtex Leather ding Room, Dining Chairs Set o...          subrtex     NaN   \n",
              "2  Plant Repotting Mat MUYETOL Waterproof Transpl...          MUYETOL   $5.98   \n",
              "3  Pickleball Doormat, Welcome Doormat Absorbent ...          VEWETOL  $13.99   \n",
              "4  JOIN IRON Foldable TV Trays for Eating Set of ...  JOIN IRON Store  $89.99   \n",
              "\n",
              "                          availability  \\\n",
              "0  Only 13 left in stock - order soon.   \n",
              "1                                  NaN   \n",
              "2                             In Stock   \n",
              "3  Only 10 left in stock - order soon.   \n",
              "4    Usually ships within 5 to 6 weeks   \n",
              "\n",
              "                                          categories  \\\n",
              "0  ['Home & Kitchen', 'Storage & Organization', '...   \n",
              "1  ['Home & Kitchen', 'Furniture', 'Dining Room F...   \n",
              "2  ['Patio, Lawn & Garden', 'Outdoor Décor', 'Doo...   \n",
              "3  ['Patio, Lawn & Garden', 'Outdoor Décor', 'Doo...   \n",
              "4  ['Home & Kitchen', 'Furniture', 'Game & Recrea...   \n",
              "\n",
              "                                       primary_image  \\\n",
              "0  https://m.media-amazon.com/images/I/416WaLx10j...   \n",
              "1  https://m.media-amazon.com/images/I/31SejUEWY7...   \n",
              "2  https://m.media-amazon.com/images/I/41RgefVq70...   \n",
              "3  https://m.media-amazon.com/images/I/61vz1Igler...   \n",
              "4  https://m.media-amazon.com/images/I/41p4d4VJnN...   \n",
              "\n",
              "                                              images  upc  ...          color  \\\n",
              "0  ['https://m.media-amazon.com/images/I/416WaLx1...  NaN  ...          White   \n",
              "1  ['https://m.media-amazon.com/images/I/31SejUEW...  NaN  ...          Black   \n",
              "2  ['https://m.media-amazon.com/images/I/41RgefVq...  NaN  ...          Green   \n",
              "3  ['https://m.media-amazon.com/images/I/61vz1Igl...  NaN  ...          A5589   \n",
              "4  ['https://m.media-amazon.com/images/I/41p4d4VJ...  NaN  ...  Grey Set of 4   \n",
              "\n",
              "       material              style important_information  \\\n",
              "0         Metal             Modern                    []   \n",
              "1        Sponge  Black Rubber Wood                    []   \n",
              "2  Polyethylene             Modern                    []   \n",
              "3        Rubber             Modern                    []   \n",
              "4          Iron    X Classic Style                    []   \n",
              "\n",
              "                                    product_overview  \\\n",
              "0  [{'Brand': ' GOYMFK '}, {'Color': ' White '}, ...   \n",
              "1                                                NaN   \n",
              "2  [{'Brand': ' MUYETOL '}, {'Size': ' 26.8*26.8 ...   \n",
              "3  [{'Brand': ' VEWETOL '}, {'Size': ' 16*24INCH ...   \n",
              "4                                                NaN   \n",
              "\n",
              "                                          about_item  \\\n",
              "0  ['Multiple layers: Provides ample storage spac...   \n",
              "1  ['【Easy Assembly】: Set of 2 dining room chairs...   \n",
              "2  ['PLANT REPOTTING MAT SIZE: 26.8\" x 26.8\", squ...   \n",
              "3  ['Specifications: 16x24 Inch ', \" High-Quality...   \n",
              "4  ['Includes 4 Folding Tv Tray Tables And one Co...   \n",
              "\n",
              "                                         description  \\\n",
              "0  multiple shoes, coats, hats, and other items E...   \n",
              "1                     subrtex Dining chairs Set of 2   \n",
              "2                                                NaN   \n",
              "3  The decorative doormat features a subtle textu...   \n",
              "4  Set of Four Folding Trays With Matching Storag...   \n",
              "\n",
              "                                      specifications  \\\n",
              "0  ['Brand: GOYMFK', 'Color: White', 'Material: M...   \n",
              "1  ['Brand: subrtex', 'Color: Black', 'Product Di...   \n",
              "2  ['Brand: MUYETOL', 'Size: 26.8*26.8', 'Item We...   \n",
              "3  ['Brand: VEWETOL', 'Size: 16*24INCH', 'Materia...   \n",
              "4  ['Brand: JOIN IRON', 'Shape: Rectangular', 'In...   \n",
              "\n",
              "                                uniq_id           scraped_at  \n",
              "0  02593e81-5c09-5069-8516-b0b29f439ded  2024-02-02 15:15:08  \n",
              "1  5938d217-b8c5-5d3e-b1cf-e28e340f292e  2024-02-02 15:15:09  \n",
              "2  b2ede786-3f51-5a45-9a5b-bcf856958cd8  2024-02-02 15:15:09  \n",
              "3  8fd9377b-cfa6-5f10-835c-6b8eca2816b5  2024-02-02 15:15:10  \n",
              "4  bdc9aa30-9439-50dc-8e89-213ea211d66a  2024-02-02 15:15:11  \n",
              "\n",
              "[5 rows x 25 columns]"
            ],
            "text/html": [
              "\n",
              "  <div id=\"df-0ed4c47b-1687-4125-8ca0-46651267a17c\" class=\"colab-df-container\">\n",
              "    <div>\n",
              "<style scoped>\n",
              "    .dataframe tbody tr th:only-of-type {\n",
              "        vertical-align: middle;\n",
              "    }\n",
              "\n",
              "    .dataframe tbody tr th {\n",
              "        vertical-align: top;\n",
              "    }\n",
              "\n",
              "    .dataframe thead th {\n",
              "        text-align: right;\n",
              "    }\n",
              "</style>\n",
              "<table border=\"1\" class=\"dataframe\">\n",
              "  <thead>\n",
              "    <tr style=\"text-align: right;\">\n",
              "      <th></th>\n",
              "      <th>asin</th>\n",
              "      <th>url</th>\n",
              "      <th>title</th>\n",
              "      <th>brand</th>\n",
              "      <th>price</th>\n",
              "      <th>availability</th>\n",
              "      <th>categories</th>\n",
              "      <th>primary_image</th>\n",
              "      <th>images</th>\n",
              "      <th>upc</th>\n",
              "      <th>...</th>\n",
              "      <th>color</th>\n",
              "      <th>material</th>\n",
              "      <th>style</th>\n",
              "      <th>important_information</th>\n",
              "      <th>product_overview</th>\n",
              "      <th>about_item</th>\n",
              "      <th>description</th>\n",
              "      <th>specifications</th>\n",
              "      <th>uniq_id</th>\n",
              "      <th>scraped_at</th>\n",
              "    </tr>\n",
              "  </thead>\n",
              "  <tbody>\n",
              "    <tr>\n",
              "      <th>0</th>\n",
              "      <td>B0CJHKVG6P</td>\n",
              "      <td>https://www.amazon.com/dp/B0CJHKVG6P</td>\n",
              "      <td>GOYMFK 1pc Free Standing Shoe Rack, Multi-laye...</td>\n",
              "      <td>GOYMFK</td>\n",
              "      <td>$24.99</td>\n",
              "      <td>Only 13 left in stock - order soon.</td>\n",
              "      <td>['Home &amp; Kitchen', 'Storage &amp; Organization', '...</td>\n",
              "      <td>https://m.media-amazon.com/images/I/416WaLx10j...</td>\n",
              "      <td>['https://m.media-amazon.com/images/I/416WaLx1...</td>\n",
              "      <td>NaN</td>\n",
              "      <td>...</td>\n",
              "      <td>White</td>\n",
              "      <td>Metal</td>\n",
              "      <td>Modern</td>\n",
              "      <td>[]</td>\n",
              "      <td>[{'Brand': ' GOYMFK '}, {'Color': ' White '}, ...</td>\n",
              "      <td>['Multiple layers: Provides ample storage spac...</td>\n",
              "      <td>multiple shoes, coats, hats, and other items E...</td>\n",
              "      <td>['Brand: GOYMFK', 'Color: White', 'Material: M...</td>\n",
              "      <td>02593e81-5c09-5069-8516-b0b29f439ded</td>\n",
              "      <td>2024-02-02 15:15:08</td>\n",
              "    </tr>\n",
              "    <tr>\n",
              "      <th>1</th>\n",
              "      <td>B0B66QHB23</td>\n",
              "      <td>https://www.amazon.com/dp/B0B66QHB23</td>\n",
              "      <td>subrtex Leather ding Room, Dining Chairs Set o...</td>\n",
              "      <td>subrtex</td>\n",
              "      <td>NaN</td>\n",
              "      <td>NaN</td>\n",
              "      <td>['Home &amp; Kitchen', 'Furniture', 'Dining Room F...</td>\n",
              "      <td>https://m.media-amazon.com/images/I/31SejUEWY7...</td>\n",
              "      <td>['https://m.media-amazon.com/images/I/31SejUEW...</td>\n",
              "      <td>NaN</td>\n",
              "      <td>...</td>\n",
              "      <td>Black</td>\n",
              "      <td>Sponge</td>\n",
              "      <td>Black Rubber Wood</td>\n",
              "      <td>[]</td>\n",
              "      <td>NaN</td>\n",
              "      <td>['【Easy Assembly】: Set of 2 dining room chairs...</td>\n",
              "      <td>subrtex Dining chairs Set of 2</td>\n",
              "      <td>['Brand: subrtex', 'Color: Black', 'Product Di...</td>\n",
              "      <td>5938d217-b8c5-5d3e-b1cf-e28e340f292e</td>\n",
              "      <td>2024-02-02 15:15:09</td>\n",
              "    </tr>\n",
              "    <tr>\n",
              "      <th>2</th>\n",
              "      <td>B0BXRTWLYK</td>\n",
              "      <td>https://www.amazon.com/dp/B0BXRTWLYK</td>\n",
              "      <td>Plant Repotting Mat MUYETOL Waterproof Transpl...</td>\n",
              "      <td>MUYETOL</td>\n",
              "      <td>$5.98</td>\n",
              "      <td>In Stock</td>\n",
              "      <td>['Patio, Lawn &amp; Garden', 'Outdoor Décor', 'Doo...</td>\n",
              "      <td>https://m.media-amazon.com/images/I/41RgefVq70...</td>\n",
              "      <td>['https://m.media-amazon.com/images/I/41RgefVq...</td>\n",
              "      <td>NaN</td>\n",
              "      <td>...</td>\n",
              "      <td>Green</td>\n",
              "      <td>Polyethylene</td>\n",
              "      <td>Modern</td>\n",
              "      <td>[]</td>\n",
              "      <td>[{'Brand': ' MUYETOL '}, {'Size': ' 26.8*26.8 ...</td>\n",
              "      <td>['PLANT REPOTTING MAT SIZE: 26.8\" x 26.8\", squ...</td>\n",
              "      <td>NaN</td>\n",
              "      <td>['Brand: MUYETOL', 'Size: 26.8*26.8', 'Item We...</td>\n",
              "      <td>b2ede786-3f51-5a45-9a5b-bcf856958cd8</td>\n",
              "      <td>2024-02-02 15:15:09</td>\n",
              "    </tr>\n",
              "    <tr>\n",
              "      <th>3</th>\n",
              "      <td>B0C1MRB2M8</td>\n",
              "      <td>https://www.amazon.com/dp/B0C1MRB2M8</td>\n",
              "      <td>Pickleball Doormat, Welcome Doormat Absorbent ...</td>\n",
              "      <td>VEWETOL</td>\n",
              "      <td>$13.99</td>\n",
              "      <td>Only 10 left in stock - order soon.</td>\n",
              "      <td>['Patio, Lawn &amp; Garden', 'Outdoor Décor', 'Doo...</td>\n",
              "      <td>https://m.media-amazon.com/images/I/61vz1Igler...</td>\n",
              "      <td>['https://m.media-amazon.com/images/I/61vz1Igl...</td>\n",
              "      <td>NaN</td>\n",
              "      <td>...</td>\n",
              "      <td>A5589</td>\n",
              "      <td>Rubber</td>\n",
              "      <td>Modern</td>\n",
              "      <td>[]</td>\n",
              "      <td>[{'Brand': ' VEWETOL '}, {'Size': ' 16*24INCH ...</td>\n",
              "      <td>['Specifications: 16x24 Inch ', \" High-Quality...</td>\n",
              "      <td>The decorative doormat features a subtle textu...</td>\n",
              "      <td>['Brand: VEWETOL', 'Size: 16*24INCH', 'Materia...</td>\n",
              "      <td>8fd9377b-cfa6-5f10-835c-6b8eca2816b5</td>\n",
              "      <td>2024-02-02 15:15:10</td>\n",
              "    </tr>\n",
              "    <tr>\n",
              "      <th>4</th>\n",
              "      <td>B0CG1N9QRC</td>\n",
              "      <td>https://www.amazon.com/dp/B0CG1N9QRC</td>\n",
              "      <td>JOIN IRON Foldable TV Trays for Eating Set of ...</td>\n",
              "      <td>JOIN IRON Store</td>\n",
              "      <td>$89.99</td>\n",
              "      <td>Usually ships within 5 to 6 weeks</td>\n",
              "      <td>['Home &amp; Kitchen', 'Furniture', 'Game &amp; Recrea...</td>\n",
              "      <td>https://m.media-amazon.com/images/I/41p4d4VJnN...</td>\n",
              "      <td>['https://m.media-amazon.com/images/I/41p4d4VJ...</td>\n",
              "      <td>NaN</td>\n",
              "      <td>...</td>\n",
              "      <td>Grey Set of 4</td>\n",
              "      <td>Iron</td>\n",
              "      <td>X Classic Style</td>\n",
              "      <td>[]</td>\n",
              "      <td>NaN</td>\n",
              "      <td>['Includes 4 Folding Tv Tray Tables And one Co...</td>\n",
              "      <td>Set of Four Folding Trays With Matching Storag...</td>\n",
              "      <td>['Brand: JOIN IRON', 'Shape: Rectangular', 'In...</td>\n",
              "      <td>bdc9aa30-9439-50dc-8e89-213ea211d66a</td>\n",
              "      <td>2024-02-02 15:15:11</td>\n",
              "    </tr>\n",
              "  </tbody>\n",
              "</table>\n",
              "<p>5 rows × 25 columns</p>\n",
              "</div>\n",
              "    <div class=\"colab-df-buttons\">\n",
              "\n",
              "  <div class=\"colab-df-container\">\n",
              "    <button class=\"colab-df-convert\" onclick=\"convertToInteractive('df-0ed4c47b-1687-4125-8ca0-46651267a17c')\"\n",
              "            title=\"Convert this dataframe to an interactive table.\"\n",
              "            style=\"display:none;\">\n",
              "\n",
              "  <svg xmlns=\"http://www.w3.org/2000/svg\" height=\"24px\" viewBox=\"0 -960 960 960\">\n",
              "    <path d=\"M120-120v-720h720v720H120Zm60-500h600v-160H180v160Zm220 220h160v-160H400v160Zm0 220h160v-160H400v160ZM180-400h160v-160H180v160Zm440 0h160v-160H620v160ZM180-180h160v-160H180v160Zm440 0h160v-160H620v160Z\"/>\n",
              "  </svg>\n",
              "    </button>\n",
              "\n",
              "  <style>\n",
              "    .colab-df-container {\n",
              "      display:flex;\n",
              "      gap: 12px;\n",
              "    }\n",
              "\n",
              "    .colab-df-convert {\n",
              "      background-color: #E8F0FE;\n",
              "      border: none;\n",
              "      border-radius: 50%;\n",
              "      cursor: pointer;\n",
              "      display: none;\n",
              "      fill: #1967D2;\n",
              "      height: 32px;\n",
              "      padding: 0 0 0 0;\n",
              "      width: 32px;\n",
              "    }\n",
              "\n",
              "    .colab-df-convert:hover {\n",
              "      background-color: #E2EBFA;\n",
              "      box-shadow: 0px 1px 2px rgba(60, 64, 67, 0.3), 0px 1px 3px 1px rgba(60, 64, 67, 0.15);\n",
              "      fill: #174EA6;\n",
              "    }\n",
              "\n",
              "    .colab-df-buttons div {\n",
              "      margin-bottom: 4px;\n",
              "    }\n",
              "\n",
              "    [theme=dark] .colab-df-convert {\n",
              "      background-color: #3B4455;\n",
              "      fill: #D2E3FC;\n",
              "    }\n",
              "\n",
              "    [theme=dark] .colab-df-convert:hover {\n",
              "      background-color: #434B5C;\n",
              "      box-shadow: 0px 1px 3px 1px rgba(0, 0, 0, 0.15);\n",
              "      filter: drop-shadow(0px 1px 2px rgba(0, 0, 0, 0.3));\n",
              "      fill: #FFFFFF;\n",
              "    }\n",
              "  </style>\n",
              "\n",
              "    <script>\n",
              "      const buttonEl =\n",
              "        document.querySelector('#df-0ed4c47b-1687-4125-8ca0-46651267a17c button.colab-df-convert');\n",
              "      buttonEl.style.display =\n",
              "        google.colab.kernel.accessAllowed ? 'block' : 'none';\n",
              "\n",
              "      async function convertToInteractive(key) {\n",
              "        const element = document.querySelector('#df-0ed4c47b-1687-4125-8ca0-46651267a17c');\n",
              "        const dataTable =\n",
              "          await google.colab.kernel.invokeFunction('convertToInteractive',\n",
              "                                                    [key], {});\n",
              "        if (!dataTable) return;\n",
              "\n",
              "        const docLinkHtml = 'Like what you see? Visit the ' +\n",
              "          '<a target=\"_blank\" href=https://colab.research.google.com/notebooks/data_table.ipynb>data table notebook</a>'\n",
              "          + ' to learn more about interactive tables.';\n",
              "        element.innerHTML = '';\n",
              "        dataTable['output_type'] = 'display_data';\n",
              "        await google.colab.output.renderOutput(dataTable, element);\n",
              "        const docLink = document.createElement('div');\n",
              "        docLink.innerHTML = docLinkHtml;\n",
              "        element.appendChild(docLink);\n",
              "      }\n",
              "    </script>\n",
              "  </div>\n",
              "\n",
              "\n",
              "<div id=\"df-367f78a6-71e6-4308-98c5-a0459d72b7d1\">\n",
              "  <button class=\"colab-df-quickchart\" onclick=\"quickchart('df-367f78a6-71e6-4308-98c5-a0459d72b7d1')\"\n",
              "            title=\"Suggest charts\"\n",
              "            style=\"display:none;\">\n",
              "\n",
              "<svg xmlns=\"http://www.w3.org/2000/svg\" height=\"24px\"viewBox=\"0 0 24 24\"\n",
              "     width=\"24px\">\n",
              "    <g>\n",
              "        <path d=\"M19 3H5c-1.1 0-2 .9-2 2v14c0 1.1.9 2 2 2h14c1.1 0 2-.9 2-2V5c0-1.1-.9-2-2-2zM9 17H7v-7h2v7zm4 0h-2V7h2v10zm4 0h-2v-4h2v4z\"/>\n",
              "    </g>\n",
              "</svg>\n",
              "  </button>\n",
              "\n",
              "<style>\n",
              "  .colab-df-quickchart {\n",
              "      --bg-color: #E8F0FE;\n",
              "      --fill-color: #1967D2;\n",
              "      --hover-bg-color: #E2EBFA;\n",
              "      --hover-fill-color: #174EA6;\n",
              "      --disabled-fill-color: #AAA;\n",
              "      --disabled-bg-color: #DDD;\n",
              "  }\n",
              "\n",
              "  [theme=dark] .colab-df-quickchart {\n",
              "      --bg-color: #3B4455;\n",
              "      --fill-color: #D2E3FC;\n",
              "      --hover-bg-color: #434B5C;\n",
              "      --hover-fill-color: #FFFFFF;\n",
              "      --disabled-bg-color: #3B4455;\n",
              "      --disabled-fill-color: #666;\n",
              "  }\n",
              "\n",
              "  .colab-df-quickchart {\n",
              "    background-color: var(--bg-color);\n",
              "    border: none;\n",
              "    border-radius: 50%;\n",
              "    cursor: pointer;\n",
              "    display: none;\n",
              "    fill: var(--fill-color);\n",
              "    height: 32px;\n",
              "    padding: 0;\n",
              "    width: 32px;\n",
              "  }\n",
              "\n",
              "  .colab-df-quickchart:hover {\n",
              "    background-color: var(--hover-bg-color);\n",
              "    box-shadow: 0 1px 2px rgba(60, 64, 67, 0.3), 0 1px 3px 1px rgba(60, 64, 67, 0.15);\n",
              "    fill: var(--button-hover-fill-color);\n",
              "  }\n",
              "\n",
              "  .colab-df-quickchart-complete:disabled,\n",
              "  .colab-df-quickchart-complete:disabled:hover {\n",
              "    background-color: var(--disabled-bg-color);\n",
              "    fill: var(--disabled-fill-color);\n",
              "    box-shadow: none;\n",
              "  }\n",
              "\n",
              "  .colab-df-spinner {\n",
              "    border: 2px solid var(--fill-color);\n",
              "    border-color: transparent;\n",
              "    border-bottom-color: var(--fill-color);\n",
              "    animation:\n",
              "      spin 1s steps(1) infinite;\n",
              "  }\n",
              "\n",
              "  @keyframes spin {\n",
              "    0% {\n",
              "      border-color: transparent;\n",
              "      border-bottom-color: var(--fill-color);\n",
              "      border-left-color: var(--fill-color);\n",
              "    }\n",
              "    20% {\n",
              "      border-color: transparent;\n",
              "      border-left-color: var(--fill-color);\n",
              "      border-top-color: var(--fill-color);\n",
              "    }\n",
              "    30% {\n",
              "      border-color: transparent;\n",
              "      border-left-color: var(--fill-color);\n",
              "      border-top-color: var(--fill-color);\n",
              "      border-right-color: var(--fill-color);\n",
              "    }\n",
              "    40% {\n",
              "      border-color: transparent;\n",
              "      border-right-color: var(--fill-color);\n",
              "      border-top-color: var(--fill-color);\n",
              "    }\n",
              "    60% {\n",
              "      border-color: transparent;\n",
              "      border-right-color: var(--fill-color);\n",
              "    }\n",
              "    80% {\n",
              "      border-color: transparent;\n",
              "      border-right-color: var(--fill-color);\n",
              "      border-bottom-color: var(--fill-color);\n",
              "    }\n",
              "    90% {\n",
              "      border-color: transparent;\n",
              "      border-bottom-color: var(--fill-color);\n",
              "    }\n",
              "  }\n",
              "</style>\n",
              "\n",
              "  <script>\n",
              "    async function quickchart(key) {\n",
              "      const quickchartButtonEl =\n",
              "        document.querySelector('#' + key + ' button');\n",
              "      quickchartButtonEl.disabled = true;  // To prevent multiple clicks.\n",
              "      quickchartButtonEl.classList.add('colab-df-spinner');\n",
              "      try {\n",
              "        const charts = await google.colab.kernel.invokeFunction(\n",
              "            'suggestCharts', [key], {});\n",
              "      } catch (error) {\n",
              "        console.error('Error during call to suggestCharts:', error);\n",
              "      }\n",
              "      quickchartButtonEl.classList.remove('colab-df-spinner');\n",
              "      quickchartButtonEl.classList.add('colab-df-quickchart-complete');\n",
              "    }\n",
              "    (() => {\n",
              "      let quickchartButtonEl =\n",
              "        document.querySelector('#df-367f78a6-71e6-4308-98c5-a0459d72b7d1 button');\n",
              "      quickchartButtonEl.style.display =\n",
              "        google.colab.kernel.accessAllowed ? 'block' : 'none';\n",
              "    })();\n",
              "  </script>\n",
              "</div>\n",
              "\n",
              "    </div>\n",
              "  </div>\n"
            ],
            "application/vnd.google.colaboratory.intrinsic+json": {
              "type": "dataframe",
              "variable_name": "df"
            }
          },
          "metadata": {},
          "execution_count": 24
        }
      ]
    },
    {
      "cell_type": "code",
      "source": [
        "caption_system_prompt = '''\n",
        "Your goal is to generate short, descriptive captions for images of items.\n",
        "You will be provided with an item image and the name of that item and you will output a caption that captures the most important information about the item.\n",
        "If there are multiple items depicted, refer to the name provided to understand which item you should describe.\n",
        "Your generated caption should be short (1 sentence), and include only the most important information about the item.\n",
        "The most important information could be: the type of item, the style (if mentioned), the material or color if especially relevant and/or any distinctive features.\n",
        "Keep it short and to the point.\n",
        "'''\n",
        "\n",
        "def get_caption(img_url, title):\n",
        "    response = client.chat.completions.create(\n",
        "    model=\"gpt-4-turbo\",\n",
        "    temperature=0.2,\n",
        "    max_tokens=300,\n",
        "    messages=[\n",
        "        {\n",
        "            \"role\": \"system\",\n",
        "            \"content\": caption_system_prompt\n",
        "        },\n",
        "        {\n",
        "            \"role\": \"user\",\n",
        "            \"content\": [\n",
        "                {\n",
        "                    \"type\": \"text\",\n",
        "                    \"text\": title\n",
        "                },\n",
        "                # The content type should be \"image_url\" to use gpt-4-turbo's vision capabilities\n",
        "                {\n",
        "                    \"type\": \"image_url\",\n",
        "                    \"image_url\": {\n",
        "                        \"url\": img_url\n",
        "                    }\n",
        "                },\n",
        "            ],\n",
        "        }\n",
        "    ]\n",
        "    )\n",
        "\n",
        "    return response.choices[0].message.content"
      ],
      "metadata": {
        "id": "t7q5K77VJ2ea"
      },
      "execution_count": 25,
      "outputs": []
    },
    {
      "cell_type": "code",
      "source": [
        "# Testing on a few images\n",
        "for _, row in df[:5].iterrows():\n",
        "    img_url = row['primary_image']\n",
        "    caption = get_caption(img_url, row['title'])\n",
        "    img = Image(url=img_url)\n",
        "    display(img)\n",
        "    print(f\"CAPTION: {caption}\\n\\n\")"
      ],
      "metadata": {
        "colab": {
          "base_uri": "https://localhost:8080/",
          "height": 1000
        },
        "id": "c3pmQXCnJ5jv",
        "outputId": "f28d91db-4798-4bac-94cb-cc6f566a1302"
      },
      "execution_count": 26,
      "outputs": [
        {
          "output_type": "display_data",
          "data": {
            "text/html": [
              "<img src=\"https://m.media-amazon.com/images/I/416WaLx10jL._SS522_.jpg\"/>"
            ],
            "text/plain": [
              "<IPython.core.display.Image object>"
            ]
          },
          "metadata": {}
        },
        {
          "output_type": "stream",
          "name": "stdout",
          "text": [
            "CAPTION: White multi-layer metal shoe rack with eight double hooks, featuring several shelves for shoes and additional storage space for accessories.\n",
            "\n",
            "\n"
          ]
        },
        {
          "output_type": "display_data",
          "data": {
            "text/html": [
              "<img src=\"https://m.media-amazon.com/images/I/31SejUEWY7L._SS522_.jpg\"/>"
            ],
            "text/plain": [
              "<IPython.core.display.Image object>"
            ]
          },
          "metadata": {}
        },
        {
          "output_type": "stream",
          "name": "stdout",
          "text": [
            "CAPTION: A set of two elegant black leather dining chairs with a simple vertical stitching detail on the backrest.\n",
            "\n",
            "\n"
          ]
        },
        {
          "output_type": "display_data",
          "data": {
            "text/html": [
              "<img src=\"https://m.media-amazon.com/images/I/41RgefVq70L._SS522_.jpg\"/>"
            ],
            "text/plain": [
              "<IPython.core.display.Image object>"
            ]
          },
          "metadata": {}
        },
        {
          "output_type": "stream",
          "name": "stdout",
          "text": [
            "CAPTION: A green, waterproof, square, foldable plant repotting mat with raised edges, displayed with gardening tools and potted succulents, ideal for indoor gardening and easy cleanup.\n",
            "\n",
            "\n"
          ]
        },
        {
          "output_type": "display_data",
          "data": {
            "text/html": [
              "<img src=\"https://m.media-amazon.com/images/I/61vz1IglerL._SS522_.jpg\"/>"
            ],
            "text/plain": [
              "<IPython.core.display.Image object>"
            ]
          },
          "metadata": {}
        },
        {
          "output_type": "stream",
          "name": "stdout",
          "text": [
            "CAPTION: Rectangular brown doormat featuring the phrase \"It's a good day to play PICKLEBALL\" with a pickleball paddle graphic, designed for absorbency and non-slip functionality.\n",
            "\n",
            "\n"
          ]
        },
        {
          "output_type": "display_data",
          "data": {
            "text/html": [
              "<img src=\"https://m.media-amazon.com/images/I/41p4d4VJnNL._SS522_.jpg\"/>"
            ],
            "text/plain": [
              "<IPython.core.display.Image object>"
            ]
          },
          "metadata": {}
        },
        {
          "output_type": "stream",
          "name": "stdout",
          "text": [
            "CAPTION: Set of four foldable grey TV trays with a matching stand, featuring a sleek, space-saving design ideal for small living areas.\n",
            "\n",
            "\n"
          ]
        }
      ]
    },
    {
      "cell_type": "code",
      "source": [
        "# Creating an array of json tasks\n",
        "\n",
        "tasks = []\n",
        "\n",
        "for index, row in df.iterrows():\n",
        "\n",
        "    title = row['title']\n",
        "    img_url = row['primary_image']\n",
        "\n",
        "    task = {\n",
        "        \"custom_id\": f\"task-{index}\",\n",
        "        \"method\": \"POST\",\n",
        "        \"url\": \"/v1/chat/completions\",\n",
        "        \"body\": {\n",
        "            # This is what you would have in your Chat Completions API call\n",
        "            \"model\": \"gpt-4-turbo\",\n",
        "            \"temperature\": 0.2,\n",
        "            \"max_tokens\": 300,\n",
        "            \"messages\": [\n",
        "                {\n",
        "                    \"role\": \"system\",\n",
        "                    \"content\": caption_system_prompt\n",
        "                },\n",
        "                {\n",
        "                    \"role\": \"user\",\n",
        "                    \"content\": [\n",
        "                        {\n",
        "                            \"type\": \"text\",\n",
        "                            \"text\": title\n",
        "                        },\n",
        "                        {\n",
        "                            \"type\": \"image_url\",\n",
        "                            \"image_url\": {\n",
        "                                \"url\": img_url\n",
        "                            }\n",
        "                        },\n",
        "                    ],\n",
        "                }\n",
        "            ]\n",
        "        }\n",
        "    }\n",
        "\n",
        "    tasks.append(task)"
      ],
      "metadata": {
        "id": "2_Mtltu7KPZ-"
      },
      "execution_count": 27,
      "outputs": []
    },
    {
      "cell_type": "code",
      "source": [
        "# Creating the file\n",
        "\n",
        "file_name = \"batch_tasks_furniture.jsonl\"\n",
        "\n",
        "with open(file_name, 'w') as file:\n",
        "    for obj in tasks:\n",
        "        file.write(json.dumps(obj) + '\\n')"
      ],
      "metadata": {
        "id": "WF9wMpw_KP7l"
      },
      "execution_count": 28,
      "outputs": []
    },
    {
      "cell_type": "code",
      "source": [
        "# Uploading the file\n",
        "\n",
        "batch_file = client.files.create(\n",
        "  file=open(file_name, \"rb\"),\n",
        "  purpose=\"batch\"\n",
        ")"
      ],
      "metadata": {
        "id": "Uw-c-nDaKSKY"
      },
      "execution_count": 29,
      "outputs": []
    },
    {
      "cell_type": "code",
      "source": [
        "# Creating the job\n",
        "\n",
        "batch_job = client.batches.create(\n",
        "  input_file_id=batch_file.id,\n",
        "  endpoint=\"/v1/chat/completions\",\n",
        "  completion_window=\"24h\"\n",
        ")"
      ],
      "metadata": {
        "id": "WbwTf2rRKTYu"
      },
      "execution_count": 30,
      "outputs": []
    },
    {
      "cell_type": "code",
      "source": [
        "batch_job = client.batches.retrieve(batch_job.id)\n",
        "print(batch_job)"
      ],
      "metadata": {
        "colab": {
          "base_uri": "https://localhost:8080/"
        },
        "id": "DVWrx-vnKUh-",
        "outputId": "86c6aeef-45a1-44dc-bc45-a6a127313666"
      },
      "execution_count": 31,
      "outputs": [
        {
          "output_type": "stream",
          "name": "stdout",
          "text": [
            "Batch(id='batch_0I6mxvi37100VHAfJu1uyjob', completion_window='24h', created_at=1720036444, endpoint='/v1/chat/completions', input_file_id='file-fO6GPGYI2PBsQbFwsb8PLIDS', object='batch', status='in_progress', cancelled_at=None, cancelling_at=None, completed_at=None, error_file_id=None, errors=None, expired_at=None, expires_at=1720122844, failed_at=None, finalizing_at=None, in_progress_at=1720036445, metadata=None, output_file_id=None, request_counts=BatchRequestCounts(completed=0, failed=0, total=312))\n"
          ]
        }
      ]
    },
    {
      "cell_type": "code",
      "source": [
        "import time\n",
        "\n",
        "while True:\n",
        "    batch_job = client.batches.retrieve(batch_job.id)\n",
        "    print(f\"Status: {batch_job.status} - Completed: {batch_job.request_counts.completed}/{batch_job.request_counts.total}\", end='\\r')\n",
        "    if batch_job.status == 'completed':\n",
        "        break\n",
        "    time.sleep(10)  # Wait for 10 seconds before checking again\n",
        "\n",
        "print(f\"\\nBatch job completed with status: {batch_job.status}\")"
      ],
      "metadata": {
        "colab": {
          "base_uri": "https://localhost:8080/"
        },
        "id": "aRnRF8lkKV64",
        "outputId": "358f3c5e-f680-4c9c-d29b-7e11e5e4d0f0"
      },
      "execution_count": 33,
      "outputs": [
        {
          "output_type": "stream",
          "name": "stdout",
          "text": [
            "Status: finalizing - Completed: 312/312\n",
            "Status: completed - Completed: 312/312\n",
            "\n",
            "Batch job completed with status: completed\n"
          ]
        }
      ]
    },
    {
      "cell_type": "code",
      "source": [
        "# Retrieving result file\n",
        "\n",
        "result_file_id = batch_job.output_file_id\n",
        "result = client.files.content(result_file_id).content"
      ],
      "metadata": {
        "id": "2CQrpPKYKvau"
      },
      "execution_count": 34,
      "outputs": []
    },
    {
      "cell_type": "code",
      "source": [
        "result_file_name = \"batch_job_results_furniture.jsonl\"\n",
        "\n",
        "with open(result_file_name, 'wb') as file:\n",
        "    file.write(result)"
      ],
      "metadata": {
        "id": "-v2WtL_7Kvwo"
      },
      "execution_count": 35,
      "outputs": []
    },
    {
      "cell_type": "code",
      "source": [
        "# Loading data from saved file\n",
        "\n",
        "results = []\n",
        "with open(result_file_name, 'r') as file:\n",
        "    for line in file:\n",
        "        # Parsing the JSON string into a dict and appending to the list of results\n",
        "        json_object = json.loads(line.strip())\n",
        "        results.append(json_object)"
      ],
      "metadata": {
        "id": "R5PeJnN1KxYE"
      },
      "execution_count": 36,
      "outputs": []
    },
    {
      "cell_type": "code",
      "source": [
        "# Reading only the first results\n",
        "for res in results[:5]:\n",
        "    task_id = res['custom_id']\n",
        "    # Getting index from task id\n",
        "    index = task_id.split('-')[-1]\n",
        "    result = res['response']['body']['choices'][0]['message']['content']\n",
        "    item = df.iloc[int(index)]\n",
        "    img_url = item['primary_image']\n",
        "    img = Image(url=img_url)\n",
        "    display(img)\n",
        "    print(f\"CAPTION: {result}\\n\\n\")"
      ],
      "metadata": {
        "colab": {
          "base_uri": "https://localhost:8080/",
          "height": 1000
        },
        "id": "DWEYUs0bKyZY",
        "outputId": "62880374-c18c-4895-eda5-43ae38d92b62"
      },
      "execution_count": 37,
      "outputs": [
        {
          "output_type": "display_data",
          "data": {
            "text/html": [
              "<img src=\"https://m.media-amazon.com/images/I/416WaLx10jL._SS522_.jpg\"/>"
            ],
            "text/plain": [
              "<IPython.core.display.Image object>"
            ]
          },
          "metadata": {}
        },
        {
          "output_type": "stream",
          "name": "stdout",
          "text": [
            "CAPTION: White multi-layer metal shoe rack featuring eight double hooks for additional storage, ideal for organizing footwear and accessories in living spaces.\n",
            "\n",
            "\n"
          ]
        },
        {
          "output_type": "display_data",
          "data": {
            "text/html": [
              "<img src=\"https://m.media-amazon.com/images/I/31SejUEWY7L._SS522_.jpg\"/>"
            ],
            "text/plain": [
              "<IPython.core.display.Image object>"
            ]
          },
          "metadata": {}
        },
        {
          "output_type": "stream",
          "name": "stdout",
          "text": [
            "CAPTION: A set of two elegant black leather dining chairs with a simple vertical stitching detail on the backrest.\n",
            "\n",
            "\n"
          ]
        },
        {
          "output_type": "display_data",
          "data": {
            "text/html": [
              "<img src=\"https://m.media-amazon.com/images/I/41RgefVq70L._SS522_.jpg\"/>"
            ],
            "text/plain": [
              "<IPython.core.display.Image object>"
            ]
          },
          "metadata": {}
        },
        {
          "output_type": "stream",
          "name": "stdout",
          "text": [
            "CAPTION: Green waterproof plant repotting mat, 26.8\" x 26.8\", featuring a portable and foldable design, ideal for indoor gardening and soil changing tasks.\n",
            "\n",
            "\n"
          ]
        },
        {
          "output_type": "display_data",
          "data": {
            "text/html": [
              "<img src=\"https://m.media-amazon.com/images/I/61vz1IglerL._SS522_.jpg\"/>"
            ],
            "text/plain": [
              "<IPython.core.display.Image object>"
            ]
          },
          "metadata": {}
        },
        {
          "output_type": "stream",
          "name": "stdout",
          "text": [
            "CAPTION: A brown, absorbent non-slip doormat featuring the phrase \"It's a good day to play PICKLEBALL\" with a pickleball paddle design, measuring 16x24 inches.\n",
            "\n",
            "\n"
          ]
        },
        {
          "output_type": "display_data",
          "data": {
            "text/html": [
              "<img src=\"https://m.media-amazon.com/images/I/41p4d4VJnNL._SS522_.jpg\"/>"
            ],
            "text/plain": [
              "<IPython.core.display.Image object>"
            ]
          },
          "metadata": {}
        },
        {
          "output_type": "stream",
          "name": "stdout",
          "text": [
            "CAPTION: Set of four foldable grey TV trays with a stand, featuring a compact and space-saving design, ideal for small spaces and convenient storage.\n",
            "\n",
            "\n"
          ]
        }
      ]
    },
    {
      "cell_type": "code",
      "source": [],
      "metadata": {
        "id": "YMN5mrwUKzmP"
      },
      "execution_count": null,
      "outputs": []
    }
  ]
}